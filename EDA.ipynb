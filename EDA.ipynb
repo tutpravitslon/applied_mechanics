{
  "cells": [
    {
      "cell_type": "markdown",
      "metadata": {
        "id": "view-in-github",
        "colab_type": "text"
      },
      "source": [
        "<a href=\"https://colab.research.google.com/github/tutpravitslon/applied_mechanics/blob/main/EDA.ipynb\" target=\"_parent\"><img src=\"https://colab.research.google.com/assets/colab-badge.svg\" alt=\"Open In Colab\"/></a>"
      ]
    },
    {
      "cell_type": "markdown",
      "metadata": {
        "id": "-g1v8hc5SA_5"
      },
      "source": [
        "# <center> **$\\text{Exploratory Data Analysis}$** </center>\n",
        "----"
      ]
    },
    {
      "cell_type": "markdown",
      "metadata": {
        "id": "1GNMmEiySA_6"
      },
      "source": [
        "## $\\texttt{Оглавление}$\n",
        "1. [$\\texttt{Проработка проблематики (в чем смысл для бизнеса)}$](#problems)\n",
        "2. [$\\texttt{Формализация задачи}$](#problem_statement)\n",
        "3. [$\\texttt{Анализ имеющихся данных и оценка их пригодности для решения поставленной задачи}$](#validity)\n",
        "4. [$\\texttt{Первичные разведочный анализ данных (EDA)}$](#eda)"
      ]
    },
    {
      "cell_type": "markdown",
      "metadata": {
        "id": "zUy1yv65SA_6"
      },
      "source": [
        "# <a id=\"problems\"> </a>$\\text{Проблематика (в чем смысл для бизнеса)}$"
      ]
    },
    {
      "cell_type": "markdown",
      "metadata": {
        "id": "WjZkXnaYUP5K"
      },
      "source": [
        "<div class=\"alert alert-danger\" role=\"alert\">\n",
        "Добавлена проработка проблематики для бизнеса.\n",
        "</div>"
      ]
    },
    {
      "cell_type": "markdown",
      "metadata": {
        "id": "feIn4eDrSA_6"
      },
      "source": [
        "Польза рекомендательных систем для пользователя:\n",
        "- ускорение поиска конкретного товара\n",
        "- дополниение аксессуаров к уже выбранным товарам\n",
        "- предложение неожиданных товаров\n",
        "- поддержка в принятии решения\n",
        "- снижение информационного перегруза\n",
        "- улучшение пользовательского опыта"
      ]
    },
    {
      "cell_type": "markdown",
      "metadata": {
        "id": "TzmFagbhSA_7"
      },
      "source": [
        "Польза рекомендательных систем для бизнеса:\n",
        "- Привлечение пользователей\n",
        "- Увеличение целевых бизнес метрик\n",
        "- Увеличение лояльности пользователей (NPS)\n",
        "- Конкурентное преимущество\n",
        "- Оптимизация ассортимента товаров"
      ]
    },
    {
      "cell_type": "markdown",
      "source": [
        "А также важная задача рекомендательных систем для бизнеса -  увеличение среднего чека."
      ],
      "metadata": {
        "id": "o_v6O-3iYwDv"
      }
    },
    {
      "cell_type": "markdown",
      "metadata": {
        "id": "n_p2BWP_SA_7"
      },
      "source": [
        "# <a id=\"problem_statement\"> </a>$\\text{Формализация задачи}$"
      ]
    },
    {
      "cell_type": "markdown",
      "metadata": {
        "id": "t7Rt_krEUh8B"
      },
      "source": [
        "<div class=\"alert alert-danger\" role=\"alert\">\n",
        "Исправлена ошибка: цель предсказать последовательность последующих покупок.\n",
        "</div>"
      ]
    },
    {
      "cell_type": "markdown",
      "metadata": {
        "id": "V46jKB8KSA_7"
      },
      "source": [
        "<div class=\"alert alert-info\">\n",
        "Прогназирование следующего товара, представляющего интерес для пользователя с предоставлением истории его взаимодействия.\n",
        "</div>"
      ]
    },
    {
      "cell_type": "markdown",
      "metadata": {
        "id": "fN4HfFGkSA_7"
      },
      "source": [
        "- ассортимент товаров $I$, как множество всех возможных товаров;\n",
        "- история $X_u$ для пользователя $U$, содержащая последовательность товаров $x_0, x_1, ..., x_{l-1} \\in I$, с которыми $U$ до сих пор взаимодействовал."
      ]
    },
    {
      "cell_type": "markdown",
      "metadata": {
        "id": "jfkPpl2-SA_7"
      },
      "source": [
        "> Цель рекомендательной системы: передсказать последовательность элементов, с которым пользователь провзаимодействует $x_l = y_{u^+}$. Набор последовательностей взаимодействия обозначим как набор данных $\\mathscr{D}$, он состоить из $N$ пар пользавательской последовательности и целевых элементов  $\\{(X_u, y_{u^+}), for \\; u = 1, 2 ... , N\\}$"
      ]
    },
    {
      "cell_type": "markdown",
      "metadata": {
        "id": "SZu4tHKgSA_7"
      },
      "source": [
        "# <a id=\"validity\"> </a>Анализ имеющихся данных и оценка их пригодности для решения поставленной задачи"
      ]
    },
    {
      "cell_type": "markdown",
      "metadata": {
        "id": "VtPHIa3PSA_7"
      },
      "source": [
        "Данные представляют собой две связанные по `nm_id` таблицы, а также папку с изображениями. Имена изображений - `nm_id` + `.jpg`\n",
        "\n",
        "В одной таблице содержится *Clickstream* для покупок пользователей, в другой таблице - некоторая информация о товаре."
      ]
    },
    {
      "cell_type": "markdown",
      "metadata": {
        "id": "5MyeKV6ySA_7"
      },
      "source": [
        "<div class=\"alert alert-info\">\n",
        "Структура данных позволяет говорить о возможности построения системы  с персональными рекомендациями, неперсональными и гибридными. (Для пресональных рекомендаций можно использовать историю покупок пользователей)\n",
        "</div>"
      ]
    },
    {
      "cell_type": "markdown",
      "metadata": {
        "id": "9Y-MDG-cSA_8"
      },
      "source": [
        "<div class=\"alert alert-info\">\n",
        "Данные не содержат оценок пользователей. Фитбек неявный.\n",
        "</div>\n"
      ]
    },
    {
      "cell_type": "code",
      "execution_count": null,
      "metadata": {
        "id": "USyoNQvtSA_8",
        "colab": {
          "base_uri": "https://localhost:8080/"
        },
        "outputId": "64638ed7-b7a0-4539-fe95-0866e2cac40c"
      },
      "outputs": [
        {
          "output_type": "stream",
          "name": "stdout",
          "text": [
            "Drive already mounted at /content/drive; to attempt to forcibly remount, call drive.mount(\"/content/drive\", force_remount=True).\n"
          ]
        }
      ],
      "source": [
        "from google.colab import drive\n",
        "drive.mount('/content/drive')"
      ]
    },
    {
      "cell_type": "code",
      "source": [
        "import pandas as pd\n",
        "import seaborn as sns\n",
        "import matplotlib.pyplot as plt"
      ],
      "metadata": {
        "id": "2Nh9MT2bD3sQ"
      },
      "execution_count": null,
      "outputs": []
    },
    {
      "cell_type": "code",
      "execution_count": null,
      "metadata": {
        "id": "LU35oRPQerap",
        "colab": {
          "base_uri": "https://localhost:8080/"
        },
        "outputId": "59001364-e28f-46f8-b258-a05d4575f405"
      },
      "outputs": [
        {
          "output_type": "stream",
          "name": "stdout",
          "text": [
            "root\n",
            " |-- title: string (nullable = true)\n",
            " |-- brandname: string (nullable = true)\n",
            " |-- nm_id: long (nullable = true)\n",
            " |-- colornames: array (nullable = true)\n",
            " |    |-- element: string (containsNull = true)\n",
            " |-- characteristics: array (nullable = true)\n",
            " |    |-- element: struct (containsNull = true)\n",
            " |    |    |-- charcID: double (nullable = true)\n",
            " |    |    |-- charcName: string (nullable = true)\n",
            " |    |    |-- charcSort: double (nullable = true)\n",
            " |    |    |-- charcType: double (nullable = true)\n",
            " |    |    |-- charcValues: array (nullable = true)\n",
            " |    |    |    |-- element: string (containsNull = true)\n",
            " |    |    |-- groupID: double (nullable = true)\n",
            " |    |    |-- groupName: string (nullable = true)\n",
            " |    |    |-- groupSort: double (nullable = true)\n",
            " |    |    |-- isUnifying: boolean (nullable = true)\n",
            " |    |    |-- isVariable: boolean (nullable = true)\n",
            " |    |    |-- unitName: string (nullable = true)\n",
            " |    |    |-- value: double (nullable = true)\n",
            " |    |    |-- valueAuroraIDs: array (nullable = true)\n",
            " |    |    |    |-- element: long (containsNull = true)\n",
            " |    |    |-- valueIDs: array (nullable = true)\n",
            " |    |    |    |-- element: long (containsNull = true)\n",
            " |    |    |-- valueNames: array (nullable = true)\n",
            " |    |    |    |-- element: string (containsNull = true)\n",
            " |    |    |-- variableValueIDs: array (nullable = true)\n",
            " |    |    |    |-- element: long (containsNull = true)\n",
            " |    |    |-- variableValues: array (nullable = true)\n",
            " |    |    |    |-- element: string (containsNull = true)\n",
            " |    |    |-- visibility: boolean (nullable = true)\n",
            " |-- description: string (nullable = true)\n",
            "\n"
          ]
        }
      ],
      "source": [
        "from pyspark.sql import SparkSession\n",
        "from pyspark.sql.functions import col, explode, lit\n",
        "\n",
        "\n",
        "spark = SparkSession.builder \\\n",
        "    .appName(\"Process Characteristics\") \\\n",
        "    .getOrCreate()\n",
        "\n",
        "data_path = \"/content/drive/MyDrive/wb_data/text_data_69020_final.parquet\"\n",
        "df = spark.read.parquet(data_path)\n",
        "\n",
        "df.printSchema()\n"
      ]
    },
    {
      "cell_type": "code",
      "execution_count": null,
      "metadata": {
        "id": "UtvkedVMlTVh",
        "colab": {
          "base_uri": "https://localhost:8080/"
        },
        "outputId": "ec9d9cb7-090c-4641-d347-7eaac607fad4"
      },
      "outputs": [
        {
          "output_type": "stream",
          "name": "stdout",
          "text": [
            "+------+---------+------+----------+---------------+-----------+\n",
            "| title|brandname| nm_id|colornames|characteristics|description|\n",
            "+------+---------+------+----------+---------------+-----------+\n",
            "|417877|   413434|419766|    415774|         419766|     388463|\n",
            "+------+---------+------+----------+---------------+-----------+\n",
            "\n"
          ]
        }
      ],
      "source": [
        "from pyspark.sql import functions as F\n",
        "\n",
        "non_null_counts = df.select([F.count(F.when(F.col(c).isNotNull(), 1)).alias(c) for c in df.columns])\n",
        "\n",
        "non_null_counts.show()"
      ]
    },
    {
      "cell_type": "code",
      "execution_count": null,
      "metadata": {
        "id": "8xJK3F9hpuPO",
        "colab": {
          "base_uri": "https://localhost:8080/"
        },
        "outputId": "879bfe45-2dcc-420b-e79d-d1ec49bb1b6a"
      },
      "outputs": [
        {
          "output_type": "stream",
          "name": "stdout",
          "text": [
            "+-----+-------+----------------------------------------------+---------+---------+-------------------------------------------------+-------+---------+---------+----------+----------+--------+-----+--------------+--------+----------+----------------+--------------+----------+\n",
            "|nm_id|charcID|charcName                                     |charcSort|charcType|charcValues                                      |groupID|groupName|groupSort|isUnifying|isVariable|unitName|value|valueAuroraIDs|valueIDs|valueNames|variableValueIDs|variableValues|visibility|\n",
            "+-----+-------+----------------------------------------------+---------+---------+-------------------------------------------------+-------+---------+---------+----------+----------+--------+-----+--------------+--------+----------+----------------+--------------+----------+\n",
            "|33500|NULL   |Рост модели на фото                           |NULL     |NULL     |NULL                                             |NULL   |NULL     |NULL     |NULL      |NULL      |см      |168.0|NULL          |NULL    |NULL      |NULL            |NULL          |true      |\n",
            "|33500|NULL   |Особенности модели                            |NULL     |NULL     |[Комфорт, качество, практичность, топовая модель]|NULL   |NULL     |NULL     |NULL      |NULL      |NULL    |NULL |NULL          |NULL    |NULL      |NULL            |NULL          |true      |\n",
            "|33500|NULL   |Декоративные элементы                         |NULL     |NULL     |[шов спереди и сзади по центру]                  |NULL   |NULL     |NULL     |NULL      |NULL      |NULL    |NULL |NULL          |NULL    |NULL      |NULL            |NULL          |true      |\n",
            "|33500|NULL   |Длина юбки\\платья                             |NULL     |NULL     |[Миди]                                           |NULL   |NULL     |NULL     |NULL      |NULL      |NULL    |NULL |NULL          |NULL    |NULL      |NULL            |NULL          |false     |\n",
            "|33500|NULL   |Пол                                           |NULL     |NULL     |[Женский]                                        |NULL   |NULL     |NULL     |NULL      |NULL      |NULL    |NULL |NULL          |NULL    |NULL      |NULL            |NULL          |true      |\n",
            "|33500|NULL   |Вырез горловины                               |NULL     |NULL     |[округлый]                                       |NULL   |NULL     |NULL     |NULL      |NULL      |NULL    |NULL |NULL          |NULL    |NULL      |NULL            |NULL          |true      |\n",
            "|33500|NULL   |Уход за вещами                                |NULL     |NULL     |[Деликатная стирка 30 градусов, без отбеливания] |NULL   |NULL     |NULL     |NULL      |NULL      |NULL    |NULL |NULL          |NULL    |NULL      |NULL            |NULL          |false     |\n",
            "|33500|NULL   |Назначение                                    |NULL     |NULL     |[офис, для беременных, большие размеры]          |NULL   |NULL     |NULL     |NULL      |NULL      |NULL    |NULL |NULL          |NULL    |NULL      |NULL            |NULL          |false     |\n",
            "|33500|NULL   |Тип рукава                                    |NULL     |NULL     |[3/4]                                            |NULL   |NULL     |NULL     |NULL      |NULL      |NULL    |NULL |NULL          |NULL    |NULL      |NULL            |NULL          |true      |\n",
            "|33500|NULL   |Материал подкладки                            |NULL     |NULL     |[платье офисное без подкладки]                   |NULL   |NULL     |NULL     |NULL      |NULL      |NULL    |NULL |NULL          |NULL    |NULL      |NULL            |NULL          |true      |\n",
            "|33500|NULL   |Параметры модели на фото (ОГ-ОТ-ОБ)           |NULL     |NULL     |[95 72 95]                                       |NULL   |NULL     |NULL     |NULL      |NULL      |NULL    |NULL |NULL          |NULL    |NULL      |NULL            |NULL          |true      |\n",
            "|33500|NULL   |Модель платья                                 |NULL     |NULL     |[платье трапеция]                                |NULL   |NULL     |NULL     |NULL      |NULL      |NULL    |NULL |NULL          |NULL    |NULL      |NULL            |NULL          |false     |\n",
            "|33500|NULL   |Номер декларации соответствия                 |NULL     |NULL     |[ЕАЭС N RU Д-KG.НВ29.В.03602/20]                 |NULL   |NULL     |NULL     |NULL      |NULL      |NULL    |NULL |NULL          |NULL    |NULL      |NULL            |NULL          |false     |\n",
            "|33500|NULL   |Длина упаковки                                |NULL     |NULL     |NULL                                             |NULL   |Габариты |NULL     |NULL      |NULL      |см      |40.0 |NULL          |NULL    |NULL      |NULL            |NULL          |true      |\n",
            "|33500|NULL   |Страна производства                           |NULL     |NULL     |[Киргизия]                                       |NULL   |NULL     |NULL     |NULL      |NULL      |NULL    |NULL |NULL          |NULL    |NULL      |NULL            |NULL          |true      |\n",
            "|33500|NULL   |Тип карманов                                  |NULL     |NULL     |[в боковых швах - 2 шт]                          |NULL   |NULL     |NULL     |NULL      |NULL      |NULL    |NULL |NULL          |NULL    |NULL      |NULL            |NULL          |true      |\n",
            "|33500|NULL   |Назначение платья                             |NULL     |NULL     |[для подружек невесты]                           |NULL   |NULL     |NULL     |NULL      |NULL      |NULL    |NULL |NULL          |NULL    |NULL      |NULL            |NULL          |false     |\n",
            "|33500|NULL   |Покрой                                        |NULL     |NULL     |[Свободный прямой крой]                          |NULL   |NULL     |NULL     |NULL      |NULL      |NULL    |NULL |NULL          |NULL    |NULL      |NULL            |NULL          |false     |\n",
            "|33500|NULL   |Дата окончания действия сертификата/декларации|NULL     |NULL     |[06.09.2023]                                     |NULL   |NULL     |NULL     |NULL      |NULL      |NULL    |NULL |NULL          |NULL    |NULL      |NULL            |NULL          |false     |\n",
            "|33500|NULL   |Дата регистрации сертификата/декларации       |NULL     |NULL     |[07.09.2020]                                     |NULL   |NULL     |NULL     |NULL      |NULL      |NULL    |NULL |NULL          |NULL    |NULL      |NULL            |NULL          |false     |\n",
            "|33500|NULL   |ТНВЭД                                         |NULL     |NULL     |[6113009000]                                     |NULL   |NULL     |NULL     |NULL      |NULL      |NULL    |NULL |NULL          |NULL    |NULL      |NULL            |NULL          |false     |\n",
            "|33500|NULL   |Рисунок                                       |NULL     |NULL     |[экокожа, искусственная кожа]                    |NULL   |NULL     |NULL     |NULL      |NULL      |NULL    |NULL |NULL          |NULL    |NULL      |NULL            |NULL          |false     |\n",
            "|33500|NULL   |Коллекция                                     |NULL     |NULL     |[Базовая коллекция]                              |NULL   |NULL     |NULL     |NULL      |NULL      |NULL    |NULL |NULL          |NULL    |NULL      |NULL            |NULL          |false     |\n",
            "|33500|NULL   |Вид застежки                                  |NULL     |NULL     |[без застежки]                                   |NULL   |NULL     |NULL     |NULL      |NULL      |NULL    |NULL |NULL          |NULL    |NULL      |NULL            |NULL          |true      |\n",
            "|33500|NULL   |Религиозное предназначение                    |NULL     |NULL     |[православие]                                    |NULL   |NULL     |NULL     |NULL      |NULL      |NULL    |NULL |NULL          |NULL    |NULL      |NULL            |NULL          |false     |\n",
            "|33500|NULL   |Фактура материала                             |NULL     |NULL     |[экокожа, трикотаж]                              |NULL   |NULL     |NULL     |NULL      |NULL      |NULL    |NULL |NULL          |NULL    |NULL      |NULL            |NULL          |true      |\n",
            "|33500|NULL   |Любимые герои                                 |NULL     |NULL     |[платье черное классическое платье черное футляр]|NULL   |NULL     |NULL     |NULL      |NULL      |NULL    |NULL |NULL          |NULL    |NULL      |NULL            |NULL          |false     |\n",
            "|33500|NULL   |Комплектация                                  |NULL     |NULL     |[Платье женское - 1 шт, Подарок за покупку- 1 шт]|NULL   |NULL     |NULL     |NULL      |NULL      |NULL    |NULL |NULL          |NULL    |NULL      |NULL            |NULL          |false     |\n",
            "|33500|NULL   |Состав                                        |NULL     |NULL     |[эластан 8%, полиуретан 46%, хлопок 46%]         |NULL   |NULL     |NULL     |NULL      |NULL      |NULL    |NULL |NULL          |NULL    |NULL      |NULL            |NULL          |true      |\n",
            "|33500|NULL   |Ширина упаковки                               |NULL     |NULL     |NULL                                             |NULL   |Габариты |NULL     |NULL      |NULL      |см      |30.0 |NULL          |NULL    |NULL      |NULL            |NULL          |true      |\n",
            "|33500|NULL   |Высота упаковки                               |NULL     |NULL     |NULL                                             |NULL   |Габариты |NULL     |NULL      |NULL      |см      |4.0  |NULL          |NULL    |NULL      |NULL            |NULL          |true      |\n",
            "|33500|NULL   |Тип ростовки                                  |NULL     |NULL     |[для невысоких]                                  |NULL   |NULL     |NULL     |NULL      |NULL      |NULL    |NULL |NULL          |NULL    |NULL      |NULL            |NULL          |false     |\n",
            "|33500|NULL   |Размер на модели                              |NULL     |NULL     |[50]                                             |NULL   |NULL     |NULL     |NULL      |NULL      |NULL    |NULL |NULL          |NULL    |NULL      |NULL            |NULL          |true      |\n",
            "+-----+-------+----------------------------------------------+---------+---------+-------------------------------------------------+-------+---------+---------+----------+----------+--------+-----+--------------+--------+----------+----------------+--------------+----------+\n",
            "\n"
          ]
        }
      ],
      "source": [
        "from pyspark.sql import functions as F\n",
        "\n",
        "\n",
        "# Разворачиваем массив characteristics в отдельные строки\n",
        "df_exploded = df.withColumn(\"characteristic\", F.explode(df[\"characteristics\"]))\n",
        "\n",
        "# Выбираем нужные поля из структуры characteristic и создаем новую таблицу\n",
        "df_characteristics = df_exploded.select(\n",
        "    \"nm_id\",  # Ссылка на nm_id для связи с основным DataFrame\n",
        "    \"characteristic.charcID\",\n",
        "    \"characteristic.charcName\",\n",
        "    \"characteristic.charcSort\",\n",
        "    \"characteristic.charcType\",\n",
        "    \"characteristic.charcValues\",\n",
        "    \"characteristic.groupID\",\n",
        "    \"characteristic.groupName\",\n",
        "    \"characteristic.groupSort\",\n",
        "    \"characteristic.isUnifying\",\n",
        "    \"characteristic.isVariable\",\n",
        "    \"characteristic.unitName\",\n",
        "    \"characteristic.value\",\n",
        "    \"characteristic.valueAuroraIDs\",\n",
        "    \"characteristic.valueIDs\",\n",
        "    \"characteristic.valueNames\",\n",
        "    \"characteristic.variableValueIDs\",\n",
        "    \"characteristic.variableValues\",\n",
        "    \"characteristic.visibility\"\n",
        ")\n",
        "\n",
        "df_characteristics_filtered = df_characteristics.where(df_characteristics.nm_id == 33500)\n",
        "\n",
        "df_characteristics_filtered.show(df_characteristics_filtered.count(), truncate=False)\n"
      ]
    },
    {
      "cell_type": "code",
      "execution_count": null,
      "metadata": {
        "id": "l3KdpCm1t4Ye",
        "colab": {
          "base_uri": "https://localhost:8080/"
        },
        "outputId": "17a86b92-aeed-41cb-c18b-fea4224512d1"
      },
      "outputs": [
        {
          "output_type": "stream",
          "name": "stdout",
          "text": [
            "+------+-------+---------+---------+---------+-----------+-------+-------------------+---------+----------+----------+--------+-----+--------------+--------+----------+----------------+--------------+----------+\n",
            "|nm_id |charcID|charcName|charcSort|charcType|charcValues|groupID|groupName          |groupSort|isUnifying|isVariable|unitName|value|valueAuroraIDs|valueIDs|valueNames|variableValueIDs|variableValues|visibility|\n",
            "+------+-------+---------+---------+---------+-----------+-------+-------------------+---------+----------+----------+--------+-----+--------------+--------+----------+----------------+--------------+----------+\n",
            "|66368 |NULL   |Пол      |23.0     |1.0      |[女]       |NULL   |Основная информация|1.0      |false     |false     |NULL    |NULL |NULL          |NULL    |[女]      |NULL            |NULL          |false     |\n",
            "|217041|NULL   |Пол      |NULL     |NULL     |[女]       |NULL   |NULL               |NULL     |NULL      |NULL      |NULL    |NULL |NULL          |NULL    |[女]      |NULL            |NULL          |false     |\n",
            "|289601|NULL   |Пол      |23.0     |1.0      |[女]       |NULL   |Основная информация|1.0      |false     |false     |NULL    |NULL |NULL          |NULL    |[女]      |NULL            |NULL          |false     |\n",
            "|132315|NULL   |Пол      |23.0     |1.0      |[女]       |NULL   |Основная информация|1.0      |false     |false     |NULL    |NULL |NULL          |NULL    |[女]      |NULL            |NULL          |false     |\n",
            "|390280|NULL   |Пол      |23.0     |1.0      |[女]       |NULL   |Основная информация|1.0      |false     |false     |NULL    |NULL |NULL          |NULL    |[女]      |NULL            |NULL          |false     |\n",
            "|385638|NULL   |Пол      |23.0     |1.0      |[女]       |NULL   |Основная информация|1.0      |false     |false     |NULL    |NULL |NULL          |NULL    |[女]      |NULL            |NULL          |false     |\n",
            "|330874|NULL   |Пол      |23.0     |1.0      |[女]       |NULL   |Основная информация|1.0      |false     |false     |NULL    |NULL |NULL          |NULL    |[女]      |NULL            |NULL          |false     |\n",
            "|231687|NULL   |Пол      |NULL     |NULL     |[女]       |NULL   |NULL               |NULL     |NULL      |NULL      |NULL    |NULL |NULL          |NULL    |[女]      |NULL            |NULL          |false     |\n",
            "|65935 |NULL   |Пол      |23.0     |1.0      |[女]       |NULL   |Основная информация|1.0      |false     |false     |NULL    |NULL |NULL          |NULL    |[女]      |NULL            |NULL          |false     |\n",
            "|253779|NULL   |Пол      |NULL     |NULL     |[女]       |NULL   |NULL               |NULL     |NULL      |NULL      |NULL    |NULL |NULL          |NULL    |[女]      |NULL            |NULL          |false     |\n",
            "|307657|NULL   |Пол      |23.0     |1.0      |[女]       |NULL   |Основная информация|1.0      |false     |false     |NULL    |NULL |NULL          |NULL    |[女]      |NULL            |NULL          |false     |\n",
            "|325668|NULL   |Пол      |23.0     |1.0      |[女]       |NULL   |Основная информация|1.0      |false     |false     |NULL    |NULL |NULL          |NULL    |[女]      |NULL            |NULL          |false     |\n",
            "|163444|NULL   |Пол      |23.0     |1.0      |[女]       |NULL   |Основная информация|1.0      |false     |false     |NULL    |NULL |NULL          |NULL    |[女]      |NULL            |NULL          |false     |\n",
            "|16434 |NULL   |Пол      |23.0     |1.0      |[女]       |NULL   |Основная информация|1.0      |false     |false     |NULL    |NULL |NULL          |NULL    |[女]      |NULL            |NULL          |false     |\n",
            "|87221 |NULL   |Пол      |23.0     |1.0      |[女]       |NULL   |Основная информация|1.0      |false     |false     |NULL    |NULL |NULL          |NULL    |[女]      |NULL            |NULL          |false     |\n",
            "|133715|NULL   |Пол      |23.0     |1.0      |[女]       |NULL   |Основная информация|1.0      |false     |false     |NULL    |NULL |NULL          |NULL    |[女]      |NULL            |NULL          |false     |\n",
            "|173610|NULL   |Пол      |23.0     |1.0      |[女]       |NULL   |Основная информация|1.0      |false     |false     |NULL    |NULL |NULL          |NULL    |[女]      |NULL            |NULL          |false     |\n",
            "|414329|NULL   |Пол      |23.0     |1.0      |[女]       |NULL   |Основная информация|1.0      |false     |false     |NULL    |NULL |NULL          |NULL    |[女]      |NULL            |NULL          |false     |\n",
            "|108599|NULL   |Пол      |23.0     |1.0      |[女]       |NULL   |Основная информация|1.0      |false     |false     |NULL    |NULL |NULL          |NULL    |[女]      |NULL            |NULL          |false     |\n",
            "|264897|NULL   |Пол      |23.0     |1.0      |[女]       |NULL   |Основная информация|1.0      |false     |false     |NULL    |NULL |NULL          |NULL    |[女]      |NULL            |NULL          |false     |\n",
            "+------+-------+---------+---------+---------+-----------+-------+-------------------+---------+----------+----------+--------+-----+--------------+--------+----------+----------------+--------------+----------+\n",
            "only showing top 20 rows\n",
            "\n"
          ]
        }
      ],
      "source": [
        "#  Поиск выбросов категориальных данных пол осуществлялся эмпрерически\n",
        "df_filtered = df_characteristics.filter(\n",
        "    (df_characteristics.charcName == \"Пол\") &\n",
        "    # (~F.array_contains(df_characteristics.charcValues, \"Женщина\")) &\n",
        "    # (~F.array_contains(df_characteristics.charcValues, \"Женский\")) &\n",
        "    (F.array_contains(df_characteristics.charcValues, \"女\")) # что в переводе с китайского женщина\n",
        "    # (~F.array_contains(df_characteristics.charcValues, \"Women\")) &\n",
        "    # (~F.array_contains(df_characteristics.charcValues, \"женский\")) &\n",
        "    # (~F.array_contains(df_characteristics.charcValues, \"женщина\"))\n",
        "\n",
        ")\n",
        "\n",
        "df_filtered.show(truncate=False)\n"
      ]
    },
    {
      "cell_type": "code",
      "source": [
        "\n",
        "result = df.filter(df.nm_id == 66368)\n",
        "\n",
        "result.show(truncate=False)  # truncate=False, чтобы выводить все данные в колонках"
      ],
      "metadata": {
        "id": "BtGgSBsYQoWJ",
        "colab": {
          "base_uri": "https://localhost:8080/"
        },
        "outputId": "68bc3b1f-aa01-4497-a06a-f04b9a6f68ed"
      },
      "execution_count": null,
      "outputs": [
        {
          "output_type": "stream",
          "name": "stdout",
          "text": [
            "+-------------------------+-------------+-----+----------+------------------------------------------------------------------------------------------------------------------------------------------------------------------------------------------------------------------------------------------------------------------------------------------------------------------------------------------------------------------------------------------------------------------------------------------------------------------------------------------------------------------------------------------------------------------------------------------------------------------------------------------------------------------------------------------------------------------------------------------------------------------------------------------------------------------------------------------------------------------------------------------------------------------------------------------------------------------------------------------------------------------------------------------------------------------------------------------------------------------------------------------------------------------------------------------------------------------------------------------------------------------------------------------------------------------------------------------------------------------------------------------------------------------------------------------------------------------------------------------------------------------------------------------------------------------------------------------------------------------------------------------------------------------------------------------------------------------------------------------------------------------------------------------------------------------------------------------------------------------------------------------------------------------------------------------------------------------------------------------------------------------------------------------------------------------------------------------------------------------------------------------------------------------------------------------------------------------------------------------------------------------------------------------------------------------------------------------------------------------------------------------------------------------------------------------------------------------------------------------------------------------+---------------------------------------------------------------------------------------------------------------------------------------------------------------------------------------------------------------------------------------------------------------------------------------------------------------------------------------------------------------------------------------------------------------------------------------------------------------------------------------------------------------------------------------------------------------------------------------------------------------------------------------------------------------------------+\n",
            "|title                    |brandname    |nm_id|colornames|characteristics                                                                                                                                                                                                                                                                                                                                                                                                                                                                                                                                                                                                                                                                                                                                                                                                                                                                                                                                                                                                                                                                                                                                                                                                                                                                                                                                                                                                                                                                                                                                                                                                                                                                                                                                                                                                                                                                                                                                                                                                                                                                                                                                                                                                                                                                                                                                                                                                                                                                                                   |description                                                                                                                                                                                                                                                                                                                                                                                                                                                                                                                                                                                                                                                                |\n",
            "+-------------------------+-------------+-----+----------+------------------------------------------------------------------------------------------------------------------------------------------------------------------------------------------------------------------------------------------------------------------------------------------------------------------------------------------------------------------------------------------------------------------------------------------------------------------------------------------------------------------------------------------------------------------------------------------------------------------------------------------------------------------------------------------------------------------------------------------------------------------------------------------------------------------------------------------------------------------------------------------------------------------------------------------------------------------------------------------------------------------------------------------------------------------------------------------------------------------------------------------------------------------------------------------------------------------------------------------------------------------------------------------------------------------------------------------------------------------------------------------------------------------------------------------------------------------------------------------------------------------------------------------------------------------------------------------------------------------------------------------------------------------------------------------------------------------------------------------------------------------------------------------------------------------------------------------------------------------------------------------------------------------------------------------------------------------------------------------------------------------------------------------------------------------------------------------------------------------------------------------------------------------------------------------------------------------------------------------------------------------------------------------------------------------------------------------------------------------------------------------------------------------------------------------------------------------------------------------------------------------+---------------------------------------------------------------------------------------------------------------------------------------------------------------------------------------------------------------------------------------------------------------------------------------------------------------------------------------------------------------------------------------------------------------------------------------------------------------------------------------------------------------------------------------------------------------------------------------------------------------------------------------------------------------------------+\n",
            "|Модное платье без рукавов|Massimo Dutti|66368|[бежевый] |[{NULL, Декоративные элементы, 16.0, 1.0, [Зашнуровать], NULL, NULL, 37.0, false, false, NULL, NULL, NULL, NULL, [Зашнуровать], NULL, NULL, true}, {NULL, Назначение, 25.0, 1.0, [晚会, 聚会], NULL, NULL, 37.0, false, false, NULL, NULL, NULL, NULL, [晚会, 聚会], NULL, NULL, false}, {NULL, Ширина упаковки, 32.0, 4.0, NULL, NULL, Габариты, 38.0, false, false, см, 6.0, NULL, NULL, NULL, NULL, NULL, false}, {NULL, Назначение платья, 26.0, 1.0, [晚会], NULL, NULL, 37.0, false, false, NULL, NULL, NULL, NULL, [晚会], NULL, NULL, false}, {NULL, Пол, 23.0, 1.0, [女], NULL, Основная информация, 1.0, false, false, NULL, NULL, NULL, NULL, [女], NULL, NULL, false}, {NULL, Страна производства, 14.0, 1.0, [中国], NULL, NULL, 37.0, false, false, NULL, NULL, NULL, NULL, [中国], NULL, NULL, true}, {NULL, Тип рукава, 24.0, 1.0, [Без рукавов], NULL, NULL, 37.0, false, false, NULL, NULL, NULL, NULL, [Без рукавов], NULL, NULL, true}, {NULL, Высота упаковки, 33.0, 4.0, NULL, NULL, Габариты, 38.0, false, false, см, 20.0, NULL, NULL, NULL, NULL, NULL, false}, {NULL, Уход за вещами, 31.0, 1.0, [Промойте водой температурой не выше 30 градусов], NULL, NULL, 37.0, false, false, NULL, NULL, NULL, NULL, [Промойте водой температурой не выше 30 градусов], NULL, NULL, true}, {NULL, Состав, 4.0, 1.0, [хлопок], NULL, Основная информация, 1.0, false, false, NULL, NULL, NULL, NULL, [хлопок], NULL, NULL, true}, {NULL, Ставка НДС, 41.0, 1.0, [0], NULL, Цены, 4.0, false, false, NULL, NULL, NULL, NULL, [0], NULL, NULL, false}, {NULL, ТНВЭД, 40.0, 1.0, [6114200000], NULL, NULL, 37.0, false, false, NULL, NULL, NULL, NULL, [6114200000], NULL, NULL, false}, {NULL, Вид застежки, 13.0, 1.0, [Зашнуровать], NULL, NULL, 37.0, false, false, NULL, NULL, NULL, NULL, [Зашнуровать], NULL, NULL, true}, {NULL, Модель платья, 21.0, 1.0, [Без рукавов], NULL, NULL, 37.0, false, false, NULL, NULL, NULL, NULL, [Без рукавов], NULL, NULL, false}, {NULL, Покрой, 29.0, 1.0, [свободный], NULL, NULL, 37.0, false, false, NULL, NULL, NULL, NULL, [свободный], NULL, NULL, true}, {NULL, Вырез горловины, 27.0, 1.0, [圆], NULL, NULL, 37.0, false, false, NULL, NULL, NULL, NULL, [圆], NULL, NULL, true}, {NULL, Цвет, 5.0, 1.0, [米色], NULL, Основная информация, 1.0, false, true, NULL, NULL, NULL, NULL, [米色], NULL, [бежевый], true}, {NULL, Длина упаковки, 34.0, 4.0, NULL, NULL, Габариты, 38.0, false, false, см, 30.0, NULL, NULL, NULL, NULL, NULL, false}]|Это модное платье без рукавов от Massimo Dutti отличается простым и элегантным дизайном.Фасон длинной юбки элегантный и щедрый, подходит для всех случаев жизни.Дизайн без рукавов освежающий и аккуратный, идеально подчеркивающий линию плеч.Шнуровка на талии не только создает ощущение стройности, но и хорошо очерчивает изгиб талии, подчеркивая мягкость и утонченность женщин.Юбка ниспадает естественным образом, создавая элегантное чувство ритма при ходьбе.Это платье можно носить отдельно, чтобы подчеркнуть простой стиль, или сочетать с аксессуарами, чтобы создать более изысканный модный образ. Это незаменимая вещь в гардеробе современной женщины.|\n",
            "+-------------------------+-------------+-----+----------+------------------------------------------------------------------------------------------------------------------------------------------------------------------------------------------------------------------------------------------------------------------------------------------------------------------------------------------------------------------------------------------------------------------------------------------------------------------------------------------------------------------------------------------------------------------------------------------------------------------------------------------------------------------------------------------------------------------------------------------------------------------------------------------------------------------------------------------------------------------------------------------------------------------------------------------------------------------------------------------------------------------------------------------------------------------------------------------------------------------------------------------------------------------------------------------------------------------------------------------------------------------------------------------------------------------------------------------------------------------------------------------------------------------------------------------------------------------------------------------------------------------------------------------------------------------------------------------------------------------------------------------------------------------------------------------------------------------------------------------------------------------------------------------------------------------------------------------------------------------------------------------------------------------------------------------------------------------------------------------------------------------------------------------------------------------------------------------------------------------------------------------------------------------------------------------------------------------------------------------------------------------------------------------------------------------------------------------------------------------------------------------------------------------------------------------------------------------------------------------------------------------+---------------------------------------------------------------------------------------------------------------------------------------------------------------------------------------------------------------------------------------------------------------------------------------------------------------------------------------------------------------------------------------------------------------------------------------------------------------------------------------------------------------------------------------------------------------------------------------------------------------------------------------------------------------------------+\n",
            "\n"
          ]
        }
      ]
    },
    {
      "cell_type": "code",
      "source": [
        "df_characteristics.groupBy(\"charcName\").count().orderBy(F.desc(\"count\")).show()\n",
        "df_characteristics.groupBy(\"groupName\").count().orderBy(F.desc(\"count\")).show()"
      ],
      "metadata": {
        "id": "sZ8yx5IijJ5o",
        "colab": {
          "base_uri": "https://localhost:8080/"
        },
        "outputId": "3c4f61f0-f1ce-430a-9b99-a9fbefaaa516"
      },
      "execution_count": null,
      "outputs": [
        {
          "output_type": "stream",
          "name": "stdout",
          "text": [
            "+--------------------+------+\n",
            "|           charcName| count|\n",
            "+--------------------+------+\n",
            "|                 Пол|419766|\n",
            "|               ТНВЭД|417109|\n",
            "|                Цвет|415266|\n",
            "|     Высота упаковки|397111|\n",
            "|      Длина упаковки|397090|\n",
            "|     Ширина упаковки|397083|\n",
            "|              Состав|386872|\n",
            "|          Назначение|385965|\n",
            "| Страна производства|384442|\n",
            "|              Покрой|372873|\n",
            "|        Комплектация|372441|\n",
            "|          Тип рукава|369430|\n",
            "|     Вырез горловины|367407|\n",
            "|        Вид застежки|365173|\n",
            "|           Коллекция|346452|\n",
            "|   Фактура материала|342927|\n",
            "|      Уход за вещами|342671|\n",
            "|        Тип карманов|341318|\n",
            "|Декоративные элем...|326080|\n",
            "|       Модель платья|325847|\n",
            "+--------------------+------+\n",
            "only showing top 20 rows\n",
            "\n",
            "+--------------------+-------+\n",
            "|           groupName|  count|\n",
            "+--------------------+-------+\n",
            "|                NULL|7933150|\n",
            "| Основная информация|1216191|\n",
            "|            Габариты|1188137|\n",
            "|           Документы| 546055|\n",
            "|                Цены|  89707|\n",
            "|Дополнительная ин...|    671|\n",
            "|   Размеры и Баркоды|     29|\n",
            "+--------------------+-------+\n",
            "\n"
          ]
        }
      ]
    },
    {
      "cell_type": "code",
      "source": [
        "df_characteristics.groupBy(\"charcName\").agg(\n",
        "    F.countDistinct(\"value\").alias(\"unique_values_count\"),\n",
        "    F.count(\"*\").alias(\"total_count\")\n",
        ").orderBy(F.desc(\"total_count\")).show()"
      ],
      "metadata": {
        "id": "YuiXO-jUkhcx",
        "colab": {
          "base_uri": "https://localhost:8080/"
        },
        "outputId": "075827e4-76cd-4c64-b31c-4716c63d6b67"
      },
      "execution_count": null,
      "outputs": [
        {
          "output_type": "stream",
          "name": "stdout",
          "text": [
            "+--------------------+-------------------+-----------+\n",
            "|           charcName|unique_values_count|total_count|\n",
            "+--------------------+-------------------+-----------+\n",
            "|                 Пол|                  0|     419766|\n",
            "|               ТНВЭД|                  0|     417109|\n",
            "|                Цвет|                  0|     415266|\n",
            "|     Высота упаковки|                134|     397111|\n",
            "|      Длина упаковки|                130|     397090|\n",
            "|     Ширина упаковки|                114|     397083|\n",
            "|              Состав|                  0|     386872|\n",
            "|          Назначение|                  0|     385965|\n",
            "| Страна производства|                  0|     384442|\n",
            "|              Покрой|                  0|     372873|\n",
            "|        Комплектация|                  0|     372441|\n",
            "|          Тип рукава|                  0|     369430|\n",
            "|     Вырез горловины|                  0|     367407|\n",
            "|        Вид застежки|                  0|     365173|\n",
            "|           Коллекция|                  0|     346452|\n",
            "|   Фактура материала|                  0|     342927|\n",
            "|      Уход за вещами|                  0|     342671|\n",
            "|        Тип карманов|                  0|     341318|\n",
            "|Декоративные элем...|                  0|     326080|\n",
            "|       Модель платья|                  0|     325847|\n",
            "+--------------------+-------------------+-----------+\n",
            "only showing top 20 rows\n",
            "\n"
          ]
        }
      ]
    },
    {
      "cell_type": "code",
      "execution_count": null,
      "metadata": {
        "id": "Syc6sL9Iu1rK",
        "colab": {
          "base_uri": "https://localhost:8080/"
        },
        "outputId": "2b335e1c-ce1b-4e37-a7e0-40bfb8cbd857"
      },
      "outputs": [
        {
          "output_type": "stream",
          "name": "stdout",
          "text": [
            "datetime64[ns]\n",
            "0   2024-10-11 09:48:23\n",
            "1   2024-10-10 19:44:54\n",
            "2   2024-10-10 20:13:01\n",
            "3   2024-10-10 19:27:19\n",
            "4   2024-10-11 23:17:59\n",
            "Name: dt, dtype: datetime64[ns]\n"
          ]
        }
      ],
      "source": [
        "import pandas as pd\n",
        "\n",
        "train_data_10_10_24_10_11_24_final = pd.read_parquet('/content/drive/MyDrive/wb_data/train_data_10_10_24_10_11_24_final.parquet')\n",
        "train_data_10_10_24_10_11_24_final['dt'] = pd.to_datetime(train_data_10_10_24_10_11_24_final['dt'])\n",
        "\n",
        "print(train_data_10_10_24_10_11_24_final['dt'].dtype)  # должен быть datetime64[ns]\n",
        "\n",
        "print(train_data_10_10_24_10_11_24_final['dt'].head())\n"
      ]
    },
    {
      "cell_type": "code",
      "execution_count": null,
      "metadata": {
        "id": "xrc07uzE0wly",
        "colab": {
          "base_uri": "https://localhost:8080/"
        },
        "outputId": "d2c6bba2-dcd1-45da-df16-32542ebf2e3c"
      },
      "outputs": [
        {
          "output_type": "stream",
          "name": "stdout",
          "text": [
            "   wbuser_id  nm_id  clicks\n",
            "0          1  17528       4\n",
            "1          1  31178       1\n",
            "2          1  32385       1\n",
            "3          1  43287       2\n",
            "4          1  57951       1\n"
          ]
        }
      ],
      "source": [
        "clicks_per_user_item = train_data_10_10_24_10_11_24_final.groupby(['wbuser_id', 'nm_id']).size().reset_index(name='clicks')\n",
        "\n",
        "print(clicks_per_user_item.head())\n"
      ]
    },
    {
      "cell_type": "code",
      "source": [
        "user_item_counts = train_data_10_10_24_10_11_24_final.groupby('wbuser_id')['nm_id'].nunique()\n",
        "\n",
        "\n",
        "distribution = user_item_counts.value_counts().sort_index()\n",
        "\n"
      ],
      "metadata": {
        "id": "OpwuLYtRDzRr"
      },
      "execution_count": null,
      "outputs": []
    },
    {
      "cell_type": "code",
      "source": [
        "import plotly.express as px"
      ],
      "metadata": {
        "id": "LAaEk_VOGM7g"
      },
      "execution_count": null,
      "outputs": []
    },
    {
      "cell_type": "code",
      "source": [
        "fig = px.scatter(\n",
        "    x=distribution.index,\n",
        "    y=distribution.values,\n",
        "    labels={\"x\": \"Количество уникальных nm_id\", \"y\": \"Количество пользователей\"},\n",
        "    title=r\"$ \\text{Распределение пользователей по количеству взаимодействий с уникальными товарами}$\"\n",
        ")\n",
        "\n",
        "\n",
        "fig.update_traces(marker=dict(size=10, color='blue', opacity=0.7))\n",
        "fig.update_layout(\n",
        "    xaxis=dict(title=r\"$ \\text{Количество уникальных nm_id}$\"),\n",
        "    yaxis=dict(title=r\"$ \\text{Количество пользователей}$\"),\n",
        "    template=\"plotly_white\"\n",
        ")\n",
        "\n",
        "fig.show()"
      ],
      "metadata": {
        "id": "ubG80p-ZGLKG",
        "colab": {
          "base_uri": "https://localhost:8080/",
          "height": 542
        },
        "outputId": "d0310c03-e68f-4b54-a5dd-1e49ccbae799"
      },
      "execution_count": null,
      "outputs": [
        {
          "output_type": "display_data",
          "data": {
            "text/html": [
              "<html>\n",
              "<head><meta charset=\"utf-8\" /></head>\n",
              "<body>\n",
              "    <div>            <script src=\"https://cdnjs.cloudflare.com/ajax/libs/mathjax/2.7.5/MathJax.js?config=TeX-AMS-MML_SVG\"></script><script type=\"text/javascript\">if (window.MathJax && window.MathJax.Hub && window.MathJax.Hub.Config) {window.MathJax.Hub.Config({SVG: {font: \"STIX-Web\"}});}</script>                <script type=\"text/javascript\">window.PlotlyConfig = {MathJaxConfig: 'local'};</script>\n",
              "        <script charset=\"utf-8\" src=\"https://cdn.plot.ly/plotly-2.35.2.min.js\"></script>                <div id=\"4034f2c0-d981-447e-83da-9fa0d24d1f9f\" class=\"plotly-graph-div\" style=\"height:525px; width:100%;\"></div>            <script type=\"text/javascript\">                                    window.PLOTLYENV=window.PLOTLYENV || {};                                    if (document.getElementById(\"4034f2c0-d981-447e-83da-9fa0d24d1f9f\")) {                    Plotly.newPlot(                        \"4034f2c0-d981-447e-83da-9fa0d24d1f9f\",                        [{\"hovertemplate\":\"Количество уникальных nm_id=%{x}\\u003cbr\\u003eКоличество пользователей=%{y}\\u003cextra\\u003e\\u003c\\u002fextra\\u003e\",\"legendgroup\":\"\",\"marker\":{\"color\":\"blue\",\"symbol\":\"circle\",\"opacity\":0.7,\"size\":10},\"mode\":\"markers\",\"name\":\"\",\"orientation\":\"v\",\"showlegend\":false,\"x\":[1,2,3,4,5,6,7,8,9,10,11,12,13,14,15,16,17,18,19,20,21,22,23,24,25,26,27,28,29,30,31,32,33,34,35,36,37,38,39,40,41,42,43,44,45,46,47,48,49,50,51,52,53,54,55,56,57,58,59,60,61,62,63,64,65,66,67,68,69,70,71,72,73,74,75,76,77,78,79,80,81,82,83,84,85,86,87,88,89,90,91,92,93,94,95,96,97,98,99,100,101,102,103,104,105,106,107,108,109,110,111,112,113,114,115,116,117,118,119,120,121,122,123,124,125,126,127,128,129,130,131,132,133,134,135,136,137,138,139,140,141,142,143,144,145,146,147,148,149,150,151,152,153,154,155,156,157,158,159,160,161,162,163,164,165,166,167,168,169,170,171,172,173,174,175,176,177,178,179,180,181,182,183,184,185,186,187,188,189,190,191,192,193,194,195,196,197,198,199,200,201,202,203,204,205,206,207,208,209,210,211,212,213,214,215,216,217,218,219,220,221,222,223,224,225,226,227,228,229,230,231,232,233,234,235,236,237,238,239,240,241,242,243,244,245,246,247,248,249,250,251,252,253,254,255,256,257,258,259,260,261,262,263,264,265,266,267,268,269,270,271,272,273,274,275,276,277,278,279,280,281,282,283,284,285,286,287,288,289,290,291,292,293,294,295,296,297,298,299,300,301,302,303,304,305,306,307,308,309,310,311,312,313,314,315,316,317,318,319,320,321,322,323,324,325,326,327,328,329,330,331,332,333,334,335,336,337,338,339,340,341,342,343,344,345,346,347,348,349,350,351,352,353,354,355,356,357,358,359,360,361,362,363,364,365,366,367,368,369,370,371,372,373,374,375,376,377,378,379,380,381,382,383,384,385,386,387,388,389,390,391,392,393,394,395,396,397,398,399,400,401,402,403,404,405,406,407,408,409,410,411,412,413,414,415,416,417,418,419,420,421,422,423,424,425,426,427,428,429,430,431,432,433,434,435,436,437,438,439,440,441,442,443,444,445,446,447,448,449,450,451,452,453,454,455,456,457,458,459,460,461,462,463,464,465,466,467,468,469,470,471,472,473,474,475,476,477,478,479,480,481,482,483,484,485,486,487,488,489,490,491,492,493,494,495,496,497,498,499,500,501,502,503,504,505,506,507,508,509,510,511,512,513,514,515,516,517,518,519,520,521,522,523,524,525,526,527,528,529,530,531,532,533,536,538,539,540,541,542,543,544,545,546,547,549,551,553,554,555,556,558,559,560,561,563,564,567,568,569,570,571,572,573,574,575,576,577,578,579,582,583,585,586,587,588,590,591,592,593,594,595,596,597,598,602,604,605,607,608,609,611,612,613,614,615,617,618,619,622,623,625,626,628,629,631,632,633,636,637,639,642,643,645,651,654,661,662,664,665,669,670,671,672,675,677,678,680,683,686,687,689,694,695,698,704,707,709,711,712,713,723,725,726,729,732,734,742,746,748,750,752,753,754,756,758,760,763,766,767,771,774,776,778,787,788,791,793,796,800,802,803,806,820,824,830,833,834,837,845,861,866,867,868,869,870,877,880,886,890,892,897,906,910,911,918,954,971,972,983,1011,1012,1014,1050,1140,1147,1161,1215,1233,1300,1366,1495,2031],\"xaxis\":\"x\",\"y\":[1126255,489730,316678,235630,184287,150191,124663,105406,90649,79052,69085,61401,54681,49783,44801,41072,37559,34913,31947,29567,27424,25585,23823,22207,21245,19373,18196,17267,16230,15430,14513,13753,12997,12369,11741,11216,10686,9922,9420,9001,8824,8243,8048,7632,7304,6740,6640,6339,6127,5767,5569,5412,5176,4966,4815,4596,4443,4265,4123,3996,3845,3703,3619,3394,3335,3225,3090,2983,2835,2821,2698,2637,2560,2433,2427,2328,2248,2227,2087,1996,1927,1916,1840,1870,1741,1732,1592,1638,1506,1534,1437,1415,1376,1307,1246,1244,1223,1160,1160,1171,1112,1051,1026,988,919,997,895,912,920,864,823,845,779,777,782,740,671,724,717,722,689,682,638,616,621,567,576,560,562,550,513,537,514,467,476,492,490,446,473,437,392,418,424,393,347,411,374,397,387,386,345,337,346,285,287,313,314,265,323,300,293,246,268,278,266,258,242,237,226,265,246,214,241,232,208,204,211,225,210,202,192,198,175,171,160,154,188,172,163,168,189,155,148,147,136,153,128,146,151,120,128,138,125,150,132,123,127,142,115,106,106,116,99,127,112,115,96,108,112,84,115,89,81,108,85,79,106,70,81,87,113,83,81,80,80,56,89,74,82,72,85,78,76,65,56,64,54,76,75,62,61,61,57,81,61,54,65,56,60,53,61,46,51,47,59,68,61,45,52,50,55,34,50,57,47,50,34,37,42,39,34,34,39,39,43,32,33,47,25,28,35,29,38,33,38,26,26,33,38,30,28,28,28,27,34,33,21,23,33,28,27,28,37,25,15,31,19,33,17,26,24,18,30,19,24,17,27,23,21,13,23,19,13,19,27,17,25,21,22,9,23,22,21,13,7,12,20,10,16,19,11,11,14,15,12,14,11,10,18,18,19,18,14,11,18,23,13,10,17,13,17,12,11,7,10,13,6,14,14,10,15,13,17,11,7,10,7,16,7,10,17,10,14,8,15,9,8,15,9,6,13,9,7,3,8,8,10,5,8,13,6,10,5,12,18,14,14,4,6,7,4,7,10,7,5,7,6,8,2,4,2,4,5,4,9,5,13,3,2,8,6,3,5,6,5,8,6,8,6,8,2,5,9,6,9,4,4,5,8,5,4,5,3,3,7,4,3,4,4,7,6,2,1,5,4,2,5,3,7,4,5,5,5,5,5,5,8,5,3,4,9,4,6,4,1,2,4,3,3,4,4,2,7,3,3,3,4,6,1,3,2,3,3,3,3,2,4,6,3,4,3,4,2,1,4,4,2,2,2,4,3,1,2,1,2,1,1,4,2,5,4,4,2,3,2,3,3,2,1,1,2,1,2,2,4,3,2,1,2,3,2,5,1,1,4,5,3,3,2,2,2,3,2,2,1,2,2,5,1,1,2,2,3,2,2,1,1,2,3,2,3,1,2,2,3,1,2,1,1,1,1,2,1,2,1,2,1,2,2,4,2,3,1,1,1,1,2,1,3,3,2,1,1,4,1,1,1,1,1,2,1,1,1,1,1,1,1,1,1,2,1,1,1,3,1,1,1,2,1,1,1,1,1,1,1,1,1,1,1,1,1,1,1,4,1,2,1,1,1,1,1,3,2,2,1,1,1,2,1,1,1,1,1,2,2,1,1,1,1,1,1,1,1,1,1,1,1,1,1,1,1,1,1,1,1,1,1,1,1,1,1,1],\"yaxis\":\"y\",\"type\":\"scatter\"}],                        {\"template\":{\"data\":{\"barpolar\":[{\"marker\":{\"line\":{\"color\":\"white\",\"width\":0.5},\"pattern\":{\"fillmode\":\"overlay\",\"size\":10,\"solidity\":0.2}},\"type\":\"barpolar\"}],\"bar\":[{\"error_x\":{\"color\":\"#2a3f5f\"},\"error_y\":{\"color\":\"#2a3f5f\"},\"marker\":{\"line\":{\"color\":\"white\",\"width\":0.5},\"pattern\":{\"fillmode\":\"overlay\",\"size\":10,\"solidity\":0.2}},\"type\":\"bar\"}],\"carpet\":[{\"aaxis\":{\"endlinecolor\":\"#2a3f5f\",\"gridcolor\":\"#C8D4E3\",\"linecolor\":\"#C8D4E3\",\"minorgridcolor\":\"#C8D4E3\",\"startlinecolor\":\"#2a3f5f\"},\"baxis\":{\"endlinecolor\":\"#2a3f5f\",\"gridcolor\":\"#C8D4E3\",\"linecolor\":\"#C8D4E3\",\"minorgridcolor\":\"#C8D4E3\",\"startlinecolor\":\"#2a3f5f\"},\"type\":\"carpet\"}],\"choropleth\":[{\"colorbar\":{\"outlinewidth\":0,\"ticks\":\"\"},\"type\":\"choropleth\"}],\"contourcarpet\":[{\"colorbar\":{\"outlinewidth\":0,\"ticks\":\"\"},\"type\":\"contourcarpet\"}],\"contour\":[{\"colorbar\":{\"outlinewidth\":0,\"ticks\":\"\"},\"colorscale\":[[0.0,\"#0d0887\"],[0.1111111111111111,\"#46039f\"],[0.2222222222222222,\"#7201a8\"],[0.3333333333333333,\"#9c179e\"],[0.4444444444444444,\"#bd3786\"],[0.5555555555555556,\"#d8576b\"],[0.6666666666666666,\"#ed7953\"],[0.7777777777777778,\"#fb9f3a\"],[0.8888888888888888,\"#fdca26\"],[1.0,\"#f0f921\"]],\"type\":\"contour\"}],\"heatmapgl\":[{\"colorbar\":{\"outlinewidth\":0,\"ticks\":\"\"},\"colorscale\":[[0.0,\"#0d0887\"],[0.1111111111111111,\"#46039f\"],[0.2222222222222222,\"#7201a8\"],[0.3333333333333333,\"#9c179e\"],[0.4444444444444444,\"#bd3786\"],[0.5555555555555556,\"#d8576b\"],[0.6666666666666666,\"#ed7953\"],[0.7777777777777778,\"#fb9f3a\"],[0.8888888888888888,\"#fdca26\"],[1.0,\"#f0f921\"]],\"type\":\"heatmapgl\"}],\"heatmap\":[{\"colorbar\":{\"outlinewidth\":0,\"ticks\":\"\"},\"colorscale\":[[0.0,\"#0d0887\"],[0.1111111111111111,\"#46039f\"],[0.2222222222222222,\"#7201a8\"],[0.3333333333333333,\"#9c179e\"],[0.4444444444444444,\"#bd3786\"],[0.5555555555555556,\"#d8576b\"],[0.6666666666666666,\"#ed7953\"],[0.7777777777777778,\"#fb9f3a\"],[0.8888888888888888,\"#fdca26\"],[1.0,\"#f0f921\"]],\"type\":\"heatmap\"}],\"histogram2dcontour\":[{\"colorbar\":{\"outlinewidth\":0,\"ticks\":\"\"},\"colorscale\":[[0.0,\"#0d0887\"],[0.1111111111111111,\"#46039f\"],[0.2222222222222222,\"#7201a8\"],[0.3333333333333333,\"#9c179e\"],[0.4444444444444444,\"#bd3786\"],[0.5555555555555556,\"#d8576b\"],[0.6666666666666666,\"#ed7953\"],[0.7777777777777778,\"#fb9f3a\"],[0.8888888888888888,\"#fdca26\"],[1.0,\"#f0f921\"]],\"type\":\"histogram2dcontour\"}],\"histogram2d\":[{\"colorbar\":{\"outlinewidth\":0,\"ticks\":\"\"},\"colorscale\":[[0.0,\"#0d0887\"],[0.1111111111111111,\"#46039f\"],[0.2222222222222222,\"#7201a8\"],[0.3333333333333333,\"#9c179e\"],[0.4444444444444444,\"#bd3786\"],[0.5555555555555556,\"#d8576b\"],[0.6666666666666666,\"#ed7953\"],[0.7777777777777778,\"#fb9f3a\"],[0.8888888888888888,\"#fdca26\"],[1.0,\"#f0f921\"]],\"type\":\"histogram2d\"}],\"histogram\":[{\"marker\":{\"pattern\":{\"fillmode\":\"overlay\",\"size\":10,\"solidity\":0.2}},\"type\":\"histogram\"}],\"mesh3d\":[{\"colorbar\":{\"outlinewidth\":0,\"ticks\":\"\"},\"type\":\"mesh3d\"}],\"parcoords\":[{\"line\":{\"colorbar\":{\"outlinewidth\":0,\"ticks\":\"\"}},\"type\":\"parcoords\"}],\"pie\":[{\"automargin\":true,\"type\":\"pie\"}],\"scatter3d\":[{\"line\":{\"colorbar\":{\"outlinewidth\":0,\"ticks\":\"\"}},\"marker\":{\"colorbar\":{\"outlinewidth\":0,\"ticks\":\"\"}},\"type\":\"scatter3d\"}],\"scattercarpet\":[{\"marker\":{\"colorbar\":{\"outlinewidth\":0,\"ticks\":\"\"}},\"type\":\"scattercarpet\"}],\"scattergeo\":[{\"marker\":{\"colorbar\":{\"outlinewidth\":0,\"ticks\":\"\"}},\"type\":\"scattergeo\"}],\"scattergl\":[{\"marker\":{\"colorbar\":{\"outlinewidth\":0,\"ticks\":\"\"}},\"type\":\"scattergl\"}],\"scattermapbox\":[{\"marker\":{\"colorbar\":{\"outlinewidth\":0,\"ticks\":\"\"}},\"type\":\"scattermapbox\"}],\"scatterpolargl\":[{\"marker\":{\"colorbar\":{\"outlinewidth\":0,\"ticks\":\"\"}},\"type\":\"scatterpolargl\"}],\"scatterpolar\":[{\"marker\":{\"colorbar\":{\"outlinewidth\":0,\"ticks\":\"\"}},\"type\":\"scatterpolar\"}],\"scatter\":[{\"fillpattern\":{\"fillmode\":\"overlay\",\"size\":10,\"solidity\":0.2},\"type\":\"scatter\"}],\"scatterternary\":[{\"marker\":{\"colorbar\":{\"outlinewidth\":0,\"ticks\":\"\"}},\"type\":\"scatterternary\"}],\"surface\":[{\"colorbar\":{\"outlinewidth\":0,\"ticks\":\"\"},\"colorscale\":[[0.0,\"#0d0887\"],[0.1111111111111111,\"#46039f\"],[0.2222222222222222,\"#7201a8\"],[0.3333333333333333,\"#9c179e\"],[0.4444444444444444,\"#bd3786\"],[0.5555555555555556,\"#d8576b\"],[0.6666666666666666,\"#ed7953\"],[0.7777777777777778,\"#fb9f3a\"],[0.8888888888888888,\"#fdca26\"],[1.0,\"#f0f921\"]],\"type\":\"surface\"}],\"table\":[{\"cells\":{\"fill\":{\"color\":\"#EBF0F8\"},\"line\":{\"color\":\"white\"}},\"header\":{\"fill\":{\"color\":\"#C8D4E3\"},\"line\":{\"color\":\"white\"}},\"type\":\"table\"}]},\"layout\":{\"annotationdefaults\":{\"arrowcolor\":\"#2a3f5f\",\"arrowhead\":0,\"arrowwidth\":1},\"autotypenumbers\":\"strict\",\"coloraxis\":{\"colorbar\":{\"outlinewidth\":0,\"ticks\":\"\"}},\"colorscale\":{\"diverging\":[[0,\"#8e0152\"],[0.1,\"#c51b7d\"],[0.2,\"#de77ae\"],[0.3,\"#f1b6da\"],[0.4,\"#fde0ef\"],[0.5,\"#f7f7f7\"],[0.6,\"#e6f5d0\"],[0.7,\"#b8e186\"],[0.8,\"#7fbc41\"],[0.9,\"#4d9221\"],[1,\"#276419\"]],\"sequential\":[[0.0,\"#0d0887\"],[0.1111111111111111,\"#46039f\"],[0.2222222222222222,\"#7201a8\"],[0.3333333333333333,\"#9c179e\"],[0.4444444444444444,\"#bd3786\"],[0.5555555555555556,\"#d8576b\"],[0.6666666666666666,\"#ed7953\"],[0.7777777777777778,\"#fb9f3a\"],[0.8888888888888888,\"#fdca26\"],[1.0,\"#f0f921\"]],\"sequentialminus\":[[0.0,\"#0d0887\"],[0.1111111111111111,\"#46039f\"],[0.2222222222222222,\"#7201a8\"],[0.3333333333333333,\"#9c179e\"],[0.4444444444444444,\"#bd3786\"],[0.5555555555555556,\"#d8576b\"],[0.6666666666666666,\"#ed7953\"],[0.7777777777777778,\"#fb9f3a\"],[0.8888888888888888,\"#fdca26\"],[1.0,\"#f0f921\"]]},\"colorway\":[\"#636efa\",\"#EF553B\",\"#00cc96\",\"#ab63fa\",\"#FFA15A\",\"#19d3f3\",\"#FF6692\",\"#B6E880\",\"#FF97FF\",\"#FECB52\"],\"font\":{\"color\":\"#2a3f5f\"},\"geo\":{\"bgcolor\":\"white\",\"lakecolor\":\"white\",\"landcolor\":\"white\",\"showlakes\":true,\"showland\":true,\"subunitcolor\":\"#C8D4E3\"},\"hoverlabel\":{\"align\":\"left\"},\"hovermode\":\"closest\",\"mapbox\":{\"style\":\"light\"},\"paper_bgcolor\":\"white\",\"plot_bgcolor\":\"white\",\"polar\":{\"angularaxis\":{\"gridcolor\":\"#EBF0F8\",\"linecolor\":\"#EBF0F8\",\"ticks\":\"\"},\"bgcolor\":\"white\",\"radialaxis\":{\"gridcolor\":\"#EBF0F8\",\"linecolor\":\"#EBF0F8\",\"ticks\":\"\"}},\"scene\":{\"xaxis\":{\"backgroundcolor\":\"white\",\"gridcolor\":\"#DFE8F3\",\"gridwidth\":2,\"linecolor\":\"#EBF0F8\",\"showbackground\":true,\"ticks\":\"\",\"zerolinecolor\":\"#EBF0F8\"},\"yaxis\":{\"backgroundcolor\":\"white\",\"gridcolor\":\"#DFE8F3\",\"gridwidth\":2,\"linecolor\":\"#EBF0F8\",\"showbackground\":true,\"ticks\":\"\",\"zerolinecolor\":\"#EBF0F8\"},\"zaxis\":{\"backgroundcolor\":\"white\",\"gridcolor\":\"#DFE8F3\",\"gridwidth\":2,\"linecolor\":\"#EBF0F8\",\"showbackground\":true,\"ticks\":\"\",\"zerolinecolor\":\"#EBF0F8\"}},\"shapedefaults\":{\"line\":{\"color\":\"#2a3f5f\"}},\"ternary\":{\"aaxis\":{\"gridcolor\":\"#DFE8F3\",\"linecolor\":\"#A2B1C6\",\"ticks\":\"\"},\"baxis\":{\"gridcolor\":\"#DFE8F3\",\"linecolor\":\"#A2B1C6\",\"ticks\":\"\"},\"bgcolor\":\"white\",\"caxis\":{\"gridcolor\":\"#DFE8F3\",\"linecolor\":\"#A2B1C6\",\"ticks\":\"\"}},\"title\":{\"x\":0.05},\"xaxis\":{\"automargin\":true,\"gridcolor\":\"#EBF0F8\",\"linecolor\":\"#EBF0F8\",\"ticks\":\"\",\"title\":{\"standoff\":15},\"zerolinecolor\":\"#EBF0F8\",\"zerolinewidth\":2},\"yaxis\":{\"automargin\":true,\"gridcolor\":\"#EBF0F8\",\"linecolor\":\"#EBF0F8\",\"ticks\":\"\",\"title\":{\"standoff\":15},\"zerolinecolor\":\"#EBF0F8\",\"zerolinewidth\":2}}},\"xaxis\":{\"anchor\":\"y\",\"domain\":[0.0,1.0],\"title\":{\"text\":\"$ \\\\text{Количество уникальных nm_id}$\"}},\"yaxis\":{\"anchor\":\"x\",\"domain\":[0.0,1.0],\"title\":{\"text\":\"$ \\\\text{Количество пользователей}$\"}},\"legend\":{\"tracegroupgap\":0},\"title\":{\"text\":\"$ \\\\text{Распределение пользователей по количеству взаимодействий с уникальными товарами}$\"}},                        {\"responsive\": true}                    ).then(function(){\n",
              "                            \n",
              "var gd = document.getElementById('4034f2c0-d981-447e-83da-9fa0d24d1f9f');\n",
              "var x = new MutationObserver(function (mutations, observer) {{\n",
              "        var display = window.getComputedStyle(gd).display;\n",
              "        if (!display || display === 'none') {{\n",
              "            console.log([gd, 'removed!']);\n",
              "            Plotly.purge(gd);\n",
              "            observer.disconnect();\n",
              "        }}\n",
              "}});\n",
              "\n",
              "// Listen for the removal of the full notebook cells\n",
              "var notebookContainer = gd.closest('#notebook-container');\n",
              "if (notebookContainer) {{\n",
              "    x.observe(notebookContainer, {childList: true});\n",
              "}}\n",
              "\n",
              "// Listen for the clearing of the current output cell\n",
              "var outputEl = gd.closest('.output');\n",
              "if (outputEl) {{\n",
              "    x.observe(outputEl, {childList: true});\n",
              "}}\n",
              "\n",
              "                        })                };                            </script>        </div>\n",
              "</body>\n",
              "</html>"
            ]
          },
          "metadata": {}
        }
      ]
    },
    {
      "cell_type": "code",
      "source": [
        "clicks_per_item = train_data_10_10_24_10_11_24_final.groupby(\"nm_id\")[\"wbuser_id\"].nunique().reset_index()\n",
        "clicks_per_item.columns = [\"nm_id\", \"unique_clicks\"]\n",
        "\n",
        "clicks_per_item = clicks_per_item.sort_values(by=\"unique_clicks\", ascending=False)\n"
      ],
      "metadata": {
        "id": "ufc2DZqeQ6-X"
      },
      "execution_count": null,
      "outputs": []
    },
    {
      "cell_type": "code",
      "source": [
        "clicks_distribution = clicks_per_item.groupby(\"unique_clicks\").size().reset_index(name=\"count_nm_id\")\n",
        "\n",
        "clicks_distribution = clicks_distribution.sort_values(by=\"unique_clicks\", ascending=False)\n"
      ],
      "metadata": {
        "id": "DU0D6_qfUG7W"
      },
      "execution_count": null,
      "outputs": []
    },
    {
      "cell_type": "code",
      "source": [
        "# Построение графика\n",
        "fig = px.bar(\n",
        "    clicks_distribution,\n",
        "    x=\"unique_clicks\",  # Ось X — количество уникальных кликов\n",
        "    y=\"count_nm_id\",    # Ось Y — количество товаров\n",
        "    title=\"Распределение товаров по количеству уникальных кликов\",\n",
        "    labels={\"unique_clicks\": \"Уникальные клики\", \"count_nm_id\": \"Количество товаров\"},\n",
        "    text=\"count_nm_id\"  # Отображение чисел над столбцами\n",
        ")\n",
        "\n",
        "# Настройка внешнего вида\n",
        "fig.update_traces(texttemplate='%{text}', textposition='outside')  # Числа над столбцами\n",
        "fig.update_layout(\n",
        "    xaxis_type='log',  # Логарифмическая шкала на X, если данные сильно разрежены\n",
        "    yaxis_type='log',  # Логарифмическая шкала на Y\n",
        "    xaxis_title=\"Уникальные клики\",\n",
        "    yaxis_title=\"Количество товаров\",\n",
        "    title_font_size=20\n",
        ")\n",
        "\n",
        "fig.show()"
      ],
      "metadata": {
        "id": "x4WVAxDyUlUD",
        "colab": {
          "base_uri": "https://localhost:8080/",
          "height": 542
        },
        "outputId": "9349264f-0f83-4a91-a739-36d0c91c130d"
      },
      "execution_count": null,
      "outputs": [
        {
          "output_type": "display_data",
          "data": {
            "text/html": [
              "<html>\n",
              "<head><meta charset=\"utf-8\" /></head>\n",
              "<body>\n",
              "    <div>            <script src=\"https://cdnjs.cloudflare.com/ajax/libs/mathjax/2.7.5/MathJax.js?config=TeX-AMS-MML_SVG\"></script><script type=\"text/javascript\">if (window.MathJax && window.MathJax.Hub && window.MathJax.Hub.Config) {window.MathJax.Hub.Config({SVG: {font: \"STIX-Web\"}});}</script>                <script type=\"text/javascript\">window.PlotlyConfig = {MathJaxConfig: 'local'};</script>\n",
              "        <script charset=\"utf-8\" src=\"https://cdn.plot.ly/plotly-2.35.2.min.js\"></script>                <div id=\"ff291557-0e79-461a-a787-44e8323fb72c\" class=\"plotly-graph-div\" style=\"height:525px; width:100%;\"></div>            <script type=\"text/javascript\">                                    window.PLOTLYENV=window.PLOTLYENV || {};                                    if (document.getElementById(\"ff291557-0e79-461a-a787-44e8323fb72c\")) {                    Plotly.newPlot(                        \"ff291557-0e79-461a-a787-44e8323fb72c\",                        [{\"alignmentgroup\":\"True\",\"hovertemplate\":\"Уникальные клики=%{x}\\u003cbr\\u003eКоличество товаров=%{text}\\u003cextra\\u003e\\u003c\\u002fextra\\u003e\",\"legendgroup\":\"\",\"marker\":{\"color\":\"#636efa\",\"pattern\":{\"shape\":\"\"}},\"name\":\"\",\"offsetgroup\":\"\",\"orientation\":\"v\",\"showlegend\":false,\"text\":[1.0,1.0,1.0,1.0,1.0,1.0,1.0,1.0,1.0,1.0,1.0,1.0,1.0,1.0,1.0,1.0,1.0,1.0,1.0,1.0,1.0,1.0,1.0,1.0,1.0,1.0,1.0,1.0,1.0,1.0,1.0,1.0,1.0,1.0,1.0,1.0,1.0,1.0,1.0,1.0,1.0,1.0,1.0,1.0,1.0,1.0,1.0,1.0,1.0,1.0,1.0,1.0,1.0,1.0,1.0,1.0,1.0,1.0,1.0,1.0,1.0,1.0,1.0,1.0,1.0,1.0,1.0,1.0,1.0,1.0,1.0,1.0,1.0,1.0,1.0,1.0,1.0,1.0,1.0,1.0,1.0,1.0,1.0,1.0,1.0,1.0,1.0,1.0,1.0,1.0,1.0,1.0,1.0,1.0,1.0,2.0,1.0,1.0,1.0,1.0,1.0,1.0,1.0,1.0,1.0,1.0,1.0,1.0,1.0,1.0,1.0,1.0,1.0,1.0,1.0,1.0,1.0,1.0,1.0,1.0,1.0,1.0,1.0,1.0,1.0,1.0,1.0,1.0,1.0,1.0,1.0,1.0,1.0,1.0,1.0,1.0,1.0,1.0,1.0,1.0,1.0,1.0,1.0,1.0,1.0,1.0,1.0,1.0,1.0,1.0,1.0,1.0,2.0,1.0,1.0,1.0,1.0,1.0,1.0,1.0,1.0,1.0,1.0,1.0,1.0,1.0,1.0,1.0,1.0,1.0,1.0,1.0,1.0,1.0,2.0,1.0,1.0,1.0,1.0,1.0,1.0,1.0,1.0,1.0,1.0,1.0,1.0,1.0,1.0,1.0,1.0,1.0,1.0,1.0,1.0,2.0,1.0,1.0,1.0,1.0,1.0,1.0,1.0,1.0,1.0,1.0,1.0,1.0,1.0,2.0,1.0,1.0,1.0,1.0,1.0,1.0,1.0,1.0,1.0,1.0,1.0,1.0,1.0,1.0,1.0,1.0,1.0,1.0,1.0,1.0,1.0,1.0,1.0,1.0,1.0,1.0,1.0,1.0,1.0,1.0,1.0,1.0,1.0,1.0,1.0,1.0,1.0,1.0,1.0,1.0,1.0,2.0,1.0,1.0,1.0,1.0,1.0,1.0,1.0,1.0,1.0,1.0,1.0,1.0,1.0,1.0,1.0,1.0,1.0,1.0,1.0,1.0,1.0,1.0,1.0,1.0,1.0,1.0,1.0,1.0,1.0,1.0,1.0,1.0,2.0,1.0,1.0,1.0,1.0,1.0,1.0,1.0,1.0,1.0,1.0,2.0,1.0,1.0,1.0,1.0,1.0,1.0,1.0,1.0,1.0,1.0,1.0,1.0,1.0,1.0,1.0,1.0,1.0,1.0,1.0,1.0,1.0,1.0,1.0,1.0,1.0,1.0,1.0,1.0,1.0,1.0,1.0,1.0,1.0,1.0,1.0,1.0,1.0,1.0,1.0,1.0,1.0,1.0,1.0,1.0,1.0,1.0,1.0,1.0,1.0,1.0,1.0,1.0,1.0,1.0,2.0,1.0,1.0,1.0,1.0,1.0,1.0,3.0,1.0,1.0,1.0,1.0,1.0,1.0,1.0,1.0,1.0,2.0,1.0,1.0,1.0,1.0,1.0,1.0,1.0,1.0,3.0,1.0,1.0,1.0,1.0,1.0,1.0,1.0,1.0,1.0,1.0,1.0,1.0,1.0,1.0,1.0,1.0,1.0,1.0,1.0,2.0,1.0,2.0,1.0,1.0,1.0,1.0,1.0,1.0,1.0,1.0,1.0,1.0,1.0,1.0,1.0,1.0,1.0,1.0,1.0,1.0,1.0,1.0,1.0,1.0,2.0,1.0,1.0,1.0,1.0,1.0,1.0,2.0,1.0,1.0,2.0,1.0,1.0,1.0,1.0,2.0,1.0,1.0,1.0,1.0,1.0,1.0,1.0,2.0,1.0,1.0,2.0,2.0,2.0,1.0,1.0,1.0,1.0,1.0,1.0,1.0,1.0,1.0,1.0,1.0,1.0,2.0,1.0,1.0,1.0,1.0,1.0,1.0,1.0,1.0,1.0,2.0,2.0,1.0,1.0,1.0,1.0,2.0,1.0,1.0,1.0,1.0,1.0,1.0,1.0,1.0,1.0,1.0,1.0,1.0,1.0,1.0,1.0,1.0,1.0,1.0,1.0,1.0,1.0,2.0,2.0,1.0,1.0,1.0,1.0,2.0,2.0,1.0,1.0,1.0,1.0,1.0,1.0,2.0,2.0,1.0,1.0,1.0,1.0,1.0,1.0,2.0,1.0,1.0,1.0,1.0,1.0,1.0,1.0,1.0,1.0,3.0,1.0,1.0,1.0,1.0,1.0,1.0,1.0,1.0,1.0,1.0,1.0,1.0,1.0,1.0,1.0,1.0,1.0,1.0,1.0,1.0,1.0,3.0,1.0,1.0,1.0,1.0,1.0,1.0,1.0,1.0,1.0,1.0,1.0,1.0,1.0,2.0,2.0,2.0,1.0,1.0,1.0,1.0,2.0,1.0,1.0,1.0,1.0,1.0,1.0,1.0,1.0,1.0,1.0,3.0,1.0,1.0,3.0,1.0,1.0,1.0,2.0,1.0,1.0,1.0,1.0,1.0,1.0,1.0,1.0,1.0,1.0,1.0,1.0,1.0,1.0,1.0,1.0,2.0,1.0,1.0,1.0,1.0,1.0,1.0,1.0,1.0,1.0,1.0,1.0,1.0,2.0,2.0,2.0,1.0,1.0,1.0,1.0,1.0,1.0,1.0,1.0,1.0,2.0,1.0,2.0,1.0,1.0,2.0,2.0,1.0,2.0,2.0,1.0,1.0,1.0,1.0,1.0,1.0,1.0,1.0,1.0,1.0,1.0,1.0,1.0,1.0,1.0,2.0,1.0,2.0,1.0,1.0,1.0,1.0,1.0,1.0,1.0,1.0,2.0,1.0,1.0,1.0,2.0,1.0,1.0,2.0,1.0,1.0,1.0,1.0,1.0,2.0,1.0,1.0,2.0,1.0,1.0,1.0,1.0,1.0,1.0,1.0,2.0,1.0,1.0,1.0,1.0,1.0,1.0,1.0,2.0,1.0,1.0,1.0,1.0,1.0,1.0,1.0,1.0,2.0,2.0,1.0,1.0,1.0,1.0,1.0,1.0,1.0,1.0,1.0,1.0,1.0,1.0,1.0,2.0,1.0,1.0,1.0,1.0,2.0,1.0,1.0,1.0,2.0,1.0,2.0,1.0,1.0,1.0,1.0,2.0,1.0,1.0,1.0,1.0,1.0,2.0,1.0,1.0,1.0,1.0,1.0,2.0,2.0,1.0,1.0,1.0,1.0,1.0,2.0,1.0,1.0,1.0,1.0,1.0,1.0,2.0,1.0,1.0,1.0,1.0,1.0,1.0,1.0,1.0,2.0,2.0,1.0,1.0,1.0,1.0,1.0,1.0,2.0,1.0,1.0,1.0,1.0,1.0,1.0,1.0,1.0,1.0,1.0,1.0,1.0,1.0,3.0,2.0,2.0,1.0,1.0,1.0,1.0,2.0,1.0,1.0,2.0,1.0,2.0,2.0,1.0,1.0,1.0,1.0,1.0,3.0,1.0,1.0,1.0,1.0,1.0,1.0,1.0,1.0,1.0,1.0,2.0,1.0,1.0,1.0,1.0,1.0,1.0,4.0,1.0,1.0,1.0,1.0,2.0,1.0,1.0,1.0,2.0,2.0,1.0,1.0,1.0,1.0,2.0,1.0,2.0,2.0,1.0,1.0,2.0,1.0,1.0,1.0,1.0,2.0,1.0,2.0,2.0,1.0,1.0,1.0,1.0,1.0,1.0,1.0,1.0,1.0,1.0,1.0,1.0,1.0,1.0,1.0,1.0,2.0,1.0,2.0,2.0,1.0,1.0,1.0,2.0,1.0,1.0,1.0,1.0,1.0,2.0,1.0,1.0,1.0,1.0,3.0,3.0,2.0,1.0,1.0,1.0,3.0,1.0,1.0,1.0,4.0,2.0,2.0,2.0,1.0,2.0,1.0,2.0,1.0,1.0,1.0,1.0,1.0,1.0,1.0,1.0,1.0,2.0,1.0,1.0,1.0,1.0,1.0,1.0,1.0,3.0,4.0,1.0,2.0,2.0,1.0,1.0,1.0,2.0,3.0,1.0,2.0,1.0,1.0,1.0,1.0,1.0,2.0,2.0,1.0,1.0,1.0,1.0,1.0,1.0,1.0,1.0,1.0,1.0,1.0,1.0,1.0,2.0,2.0,1.0,1.0,1.0,1.0,4.0,1.0,2.0,1.0,1.0,1.0,1.0,1.0,1.0,1.0,2.0,1.0,1.0,2.0,1.0,1.0,2.0,1.0,2.0,2.0,1.0,2.0,1.0,1.0,1.0,1.0,1.0,1.0,1.0,1.0,3.0,1.0,1.0,1.0,1.0,1.0,1.0,1.0,2.0,1.0,1.0,1.0,1.0,2.0,1.0,1.0,3.0,2.0,1.0,2.0,2.0,1.0,1.0,3.0,2.0,1.0,1.0,1.0,2.0,1.0,1.0,1.0,1.0,1.0,1.0,1.0,1.0,1.0,1.0,1.0,2.0,1.0,1.0,1.0,1.0,1.0,1.0,1.0,2.0,1.0,2.0,2.0,1.0,1.0,1.0,1.0,2.0,1.0,3.0,1.0,1.0,1.0,1.0,1.0,2.0,1.0,1.0,1.0,2.0,1.0,1.0,1.0,2.0,1.0,2.0,1.0,1.0,1.0,2.0,1.0,1.0,1.0,3.0,3.0,2.0,1.0,1.0,1.0,1.0,1.0,1.0,2.0,1.0,1.0,1.0,4.0,2.0,1.0,1.0,1.0,2.0,2.0,1.0,1.0,2.0,3.0,2.0,2.0,2.0,2.0,2.0,1.0,1.0,1.0,1.0,1.0,2.0,1.0,1.0,1.0,1.0,1.0,2.0,1.0,1.0,2.0,2.0,1.0,1.0,1.0,1.0,1.0,4.0,1.0,1.0,1.0,2.0,1.0,2.0,2.0,2.0,1.0,2.0,1.0,2.0,1.0,1.0,1.0,1.0,1.0,2.0,1.0,1.0,2.0,2.0,1.0,1.0,1.0,3.0,2.0,1.0,4.0,2.0,1.0,2.0,1.0,2.0,1.0,1.0,2.0,2.0,3.0,2.0,1.0,2.0,1.0,1.0,2.0,3.0,2.0,1.0,2.0,1.0,1.0,2.0,1.0,1.0,1.0,1.0,1.0,1.0,1.0,1.0,1.0,1.0,2.0,1.0,1.0,3.0,1.0,1.0,1.0,1.0,2.0,1.0,1.0,2.0,3.0,3.0,2.0,3.0,3.0,2.0,3.0,2.0,2.0,2.0,1.0,1.0,3.0,1.0,1.0,1.0,1.0,4.0,1.0,1.0,3.0,1.0,3.0,1.0,2.0,1.0,2.0,1.0,3.0,1.0,1.0,1.0,1.0,2.0,1.0,3.0,1.0,4.0,3.0,3.0,1.0,1.0,1.0,3.0,1.0,1.0,2.0,1.0,1.0,1.0,1.0,2.0,2.0,4.0,3.0,1.0,1.0,1.0,1.0,1.0,1.0,1.0,1.0,2.0,1.0,4.0,3.0,1.0,1.0,1.0,3.0,2.0,2.0,2.0,1.0,2.0,2.0,1.0,1.0,1.0,1.0,1.0,1.0,1.0,2.0,3.0,1.0,2.0,2.0,2.0,2.0,2.0,2.0,1.0,3.0,2.0,2.0,1.0,2.0,2.0,2.0,2.0,1.0,1.0,1.0,5.0,3.0,1.0,2.0,1.0,1.0,1.0,1.0,1.0,1.0,5.0,1.0,1.0,5.0,3.0,2.0,1.0,1.0,1.0,1.0,1.0,2.0,2.0,3.0,1.0,1.0,3.0,1.0,2.0,1.0,1.0,1.0,1.0,2.0,1.0,3.0,2.0,1.0,2.0,2.0,1.0,1.0,3.0,3.0,1.0,1.0,2.0,2.0,2.0,2.0,1.0,1.0,1.0,1.0,2.0,1.0,3.0,2.0,1.0,1.0,2.0,1.0,3.0,1.0,2.0,3.0,1.0,1.0,3.0,3.0,2.0,3.0,3.0,1.0,3.0,5.0,2.0,2.0,2.0,1.0,2.0,1.0,1.0,2.0,2.0,1.0,3.0,1.0,1.0,1.0,3.0,1.0,1.0,2.0,1.0,3.0,2.0,1.0,1.0,2.0,4.0,4.0,2.0,2.0,2.0,1.0,1.0,1.0,1.0,1.0,1.0,1.0,1.0,1.0,2.0,1.0,1.0,1.0,4.0,2.0,1.0,1.0,2.0,3.0,3.0,1.0,1.0,2.0,2.0,2.0,1.0,2.0,1.0,1.0,1.0,1.0,2.0,3.0,4.0,1.0,3.0,1.0,1.0,2.0,2.0,1.0,1.0,3.0,3.0,4.0,1.0,2.0,2.0,3.0,2.0,3.0,1.0,1.0,1.0,3.0,1.0,1.0,3.0,2.0,1.0,1.0,3.0,1.0,1.0,2.0,2.0,3.0,2.0,2.0,2.0,2.0,2.0,1.0,2.0,1.0,5.0,2.0,3.0,1.0,1.0,2.0,1.0,1.0,3.0,1.0,1.0,4.0,2.0,1.0,2.0,1.0,3.0,1.0,1.0,1.0,2.0,3.0,1.0,2.0,2.0,1.0,2.0,3.0,1.0,5.0,1.0,2.0,1.0,1.0,2.0,3.0,1.0,2.0,2.0,1.0,2.0,2.0,2.0,1.0,1.0,3.0,1.0,1.0,1.0,1.0,1.0,1.0,1.0,5.0,1.0,2.0,1.0,4.0,1.0,2.0,1.0,1.0,2.0,4.0,1.0,1.0,2.0,1.0,1.0,2.0,1.0,1.0,1.0,2.0,1.0,2.0,1.0,2.0,1.0,1.0,2.0,2.0,3.0,1.0,3.0,1.0,2.0,4.0,1.0,5.0,2.0,1.0,1.0,4.0,1.0,1.0,2.0,1.0,3.0,2.0,3.0,1.0,1.0,4.0,1.0,4.0,3.0,1.0,1.0,2.0,1.0,2.0,1.0,1.0,3.0,3.0,1.0,1.0,1.0,2.0,1.0,2.0,2.0,1.0,5.0,2.0,3.0,2.0,2.0,1.0,1.0,1.0,1.0,1.0,4.0,1.0,1.0,1.0,1.0,1.0,2.0,3.0,1.0,2.0,1.0,5.0,2.0,1.0,1.0,4.0,2.0,1.0,2.0,2.0,5.0,1.0,3.0,1.0,3.0,1.0,2.0,4.0,2.0,1.0,1.0,2.0,3.0,4.0,1.0,3.0,1.0,3.0,2.0,2.0,1.0,1.0,3.0,2.0,1.0,3.0,1.0,2.0,4.0,2.0,1.0,4.0,1.0,1.0,2.0,1.0,2.0,1.0,3.0,3.0,2.0,2.0,1.0,2.0,2.0,1.0,1.0,2.0,2.0,1.0,3.0,3.0,2.0,3.0,4.0,2.0,1.0,2.0,1.0,1.0,3.0,3.0,3.0,4.0,2.0,1.0,1.0,2.0,2.0,3.0,1.0,2.0,2.0,5.0,3.0,2.0,3.0,4.0,2.0,1.0,2.0,4.0,3.0,2.0,4.0,4.0,2.0,1.0,1.0,3.0,1.0,1.0,1.0,2.0,1.0,3.0,1.0,6.0,1.0,1.0,5.0,2.0,2.0,5.0,2.0,2.0,5.0,1.0,2.0,4.0,3.0,4.0,3.0,3.0,5.0,3.0,3.0,2.0,1.0,2.0,4.0,2.0,1.0,2.0,2.0,6.0,2.0,2.0,2.0,1.0,2.0,5.0,5.0,1.0,1.0,3.0,5.0,2.0,5.0,2.0,2.0,2.0,4.0,1.0,2.0,5.0,7.0,2.0,2.0,2.0,2.0,3.0,1.0,3.0,1.0,4.0,7.0,1.0,6.0,3.0,3.0,3.0,1.0,1.0,1.0,2.0,1.0,1.0,3.0,1.0,3.0,1.0,1.0,3.0,1.0,4.0,1.0,1.0,3.0,2.0,3.0,1.0,2.0,4.0,3.0,2.0,3.0,1.0,1.0,3.0,1.0,2.0,3.0,3.0,2.0,3.0,1.0,3.0,1.0,1.0,3.0,1.0,4.0,2.0,4.0,2.0,4.0,5.0,2.0,3.0,2.0,3.0,1.0,2.0,2.0,4.0,1.0,2.0,3.0,4.0,1.0,3.0,3.0,1.0,6.0,1.0,4.0,3.0,6.0,3.0,2.0,3.0,3.0,4.0,4.0,3.0,3.0,2.0,4.0,3.0,4.0,2.0,7.0,2.0,2.0,1.0,2.0,2.0,1.0,4.0,1.0,1.0,3.0,3.0,2.0,3.0,3.0,3.0,2.0,2.0,3.0,6.0,3.0,3.0,6.0,1.0,8.0,1.0,3.0,3.0,2.0,2.0,5.0,4.0,1.0,2.0,2.0,1.0,3.0,3.0,1.0,2.0,4.0,3.0,6.0,3.0,2.0,3.0,2.0,2.0,3.0,3.0,2.0,2.0,3.0,3.0,2.0,2.0,3.0,1.0,1.0,2.0,5.0,4.0,2.0,5.0,2.0,2.0,3.0,2.0,1.0,1.0,2.0,6.0,1.0,1.0,5.0,3.0,4.0,4.0,3.0,4.0,3.0,3.0,3.0,3.0,4.0,2.0,3.0,1.0,4.0,7.0,3.0,3.0,5.0,3.0,3.0,3.0,4.0,4.0,2.0,4.0,2.0,1.0,1.0,3.0,3.0,2.0,5.0,2.0,5.0,6.0,3.0,3.0,2.0,2.0,4.0,4.0,2.0,4.0,5.0,3.0,3.0,4.0,2.0,4.0,3.0,4.0,1.0,1.0,3.0,4.0,6.0,3.0,3.0,1.0,2.0,2.0,4.0,2.0,2.0,3.0,4.0,3.0,2.0,2.0,5.0,3.0,3.0,3.0,4.0,3.0,1.0,8.0,4.0,4.0,7.0,5.0,4.0,2.0,3.0,1.0,8.0,4.0,3.0,4.0,4.0,3.0,3.0,3.0,3.0,2.0,2.0,4.0,1.0,2.0,4.0,6.0,2.0,5.0,5.0,3.0,4.0,2.0,1.0,4.0,3.0,7.0,7.0,3.0,2.0,7.0,2.0,7.0,2.0,3.0,4.0,5.0,2.0,4.0,2.0,3.0,4.0,5.0,6.0,4.0,3.0,1.0,3.0,3.0,4.0,2.0,2.0,7.0,2.0,2.0,4.0,5.0,3.0,2.0,5.0,1.0,1.0,4.0,6.0,5.0,5.0,1.0,2.0,1.0,2.0,2.0,5.0,3.0,3.0,4.0,2.0,5.0,4.0,2.0,4.0,3.0,6.0,3.0,3.0,1.0,3.0,2.0,4.0,3.0,3.0,4.0,5.0,1.0,2.0,6.0,2.0,1.0,3.0,6.0,3.0,3.0,2.0,4.0,4.0,2.0,4.0,1.0,4.0,4.0,3.0,4.0,3.0,7.0,3.0,5.0,3.0,4.0,4.0,5.0,2.0,2.0,3.0,2.0,3.0,4.0,3.0,4.0,3.0,1.0,5.0,3.0,3.0,2.0,7.0,1.0,3.0,3.0,5.0,3.0,3.0,2.0,5.0,1.0,3.0,5.0,4.0,3.0,6.0,4.0,7.0,6.0,2.0,3.0,2.0,5.0,3.0,5.0,5.0,8.0,3.0,4.0,4.0,4.0,2.0,5.0,3.0,1.0,2.0,3.0,5.0,2.0,1.0,5.0,6.0,2.0,3.0,3.0,4.0,8.0,4.0,3.0,4.0,6.0,4.0,3.0,5.0,3.0,1.0,2.0,5.0,6.0,1.0,4.0,1.0,3.0,7.0,2.0,10.0,1.0,4.0,5.0,7.0,7.0,8.0,5.0,2.0,5.0,3.0,3.0,3.0,7.0,3.0,5.0,7.0,2.0,6.0,3.0,4.0,3.0,11.0,3.0,4.0,3.0,2.0,2.0,4.0,3.0,6.0,3.0,5.0,2.0,5.0,5.0,3.0,2.0,3.0,8.0,4.0,5.0,2.0,3.0,4.0,4.0,1.0,3.0,3.0,4.0,2.0,4.0,1.0,6.0,3.0,3.0,1.0,3.0,6.0,8.0,5.0,3.0,6.0,7.0,6.0,2.0,6.0,2.0,3.0,2.0,4.0,1.0,6.0,4.0,2.0,3.0,7.0,5.0,5.0,2.0,3.0,7.0,1.0,4.0,5.0,5.0,2.0,4.0,3.0,4.0,5.0,8.0,7.0,4.0,4.0,6.0,5.0,7.0,5.0,4.0,5.0,4.0,3.0,3.0,2.0,7.0,9.0,4.0,3.0,4.0,6.0,7.0,4.0,2.0,4.0,8.0,4.0,8.0,4.0,3.0,4.0,3.0,2.0,3.0,7.0,4.0,5.0,4.0,2.0,2.0,7.0,7.0,5.0,4.0,2.0,5.0,5.0,5.0,3.0,4.0,13.0,4.0,4.0,3.0,5.0,6.0,2.0,4.0,8.0,9.0,4.0,10.0,9.0,1.0,5.0,3.0,6.0,4.0,1.0,1.0,10.0,5.0,5.0,3.0,3.0,5.0,3.0,4.0,9.0,4.0,2.0,6.0,8.0,9.0,6.0,5.0,5.0,6.0,8.0,3.0,14.0,5.0,2.0,2.0,4.0,4.0,5.0,7.0,6.0,8.0,2.0,5.0,4.0,5.0,9.0,4.0,7.0,5.0,1.0,7.0,3.0,3.0,4.0,2.0,5.0,7.0,9.0,7.0,8.0,2.0,5.0,2.0,3.0,2.0,3.0,2.0,5.0,4.0,3.0,6.0,6.0,4.0,10.0,6.0,5.0,5.0,3.0,4.0,8.0,6.0,8.0,6.0,4.0,8.0,4.0,3.0,4.0,3.0,4.0,4.0,5.0,4.0,8.0,8.0,4.0,7.0,1.0,10.0,3.0,6.0,4.0,4.0,5.0,4.0,8.0,3.0,7.0,6.0,5.0,6.0,6.0,6.0,8.0,5.0,3.0,3.0,4.0,3.0,8.0,9.0,9.0,6.0,5.0,9.0,4.0,5.0,2.0,6.0,4.0,7.0,8.0,3.0,5.0,4.0,4.0,7.0,6.0,8.0,4.0,8.0,11.0,7.0,6.0,10.0,5.0,7.0,4.0,8.0,6.0,4.0,6.0,4.0,3.0,6.0,3.0,2.0,6.0,7.0,8.0,7.0,4.0,8.0,9.0,8.0,7.0,5.0,5.0,6.0,4.0,5.0,1.0,10.0,4.0,5.0,3.0,6.0,5.0,5.0,5.0,8.0,10.0,6.0,8.0,9.0,6.0,8.0,5.0,2.0,6.0,9.0,5.0,7.0,7.0,9.0,6.0,11.0,9.0,3.0,4.0,5.0,4.0,5.0,7.0,7.0,9.0,7.0,6.0,11.0,4.0,5.0,10.0,7.0,3.0,6.0,3.0,8.0,8.0,8.0,5.0,9.0,6.0,6.0,8.0,8.0,8.0,5.0,12.0,6.0,8.0,9.0,5.0,8.0,5.0,5.0,6.0,9.0,5.0,9.0,5.0,8.0,7.0,6.0,2.0,13.0,7.0,7.0,5.0,10.0,9.0,7.0,6.0,8.0,13.0,7.0,10.0,6.0,7.0,6.0,8.0,8.0,10.0,8.0,8.0,6.0,4.0,9.0,2.0,6.0,6.0,3.0,3.0,2.0,10.0,7.0,10.0,4.0,8.0,8.0,7.0,10.0,7.0,14.0,6.0,8.0,8.0,10.0,9.0,7.0,2.0,9.0,8.0,6.0,3.0,6.0,8.0,7.0,6.0,10.0,13.0,7.0,7.0,14.0,6.0,12.0,8.0,6.0,7.0,16.0,6.0,9.0,11.0,11.0,7.0,9.0,7.0,4.0,7.0,6.0,7.0,9.0,15.0,12.0,7.0,12.0,14.0,6.0,6.0,10.0,8.0,6.0,6.0,8.0,6.0,4.0,4.0,9.0,7.0,7.0,7.0,10.0,13.0,5.0,10.0,4.0,12.0,6.0,4.0,10.0,9.0,9.0,10.0,9.0,9.0,10.0,8.0,9.0,9.0,8.0,11.0,8.0,9.0,7.0,7.0,8.0,10.0,2.0,10.0,14.0,8.0,8.0,10.0,7.0,13.0,5.0,6.0,11.0,8.0,9.0,13.0,8.0,2.0,9.0,10.0,8.0,8.0,7.0,13.0,12.0,8.0,9.0,9.0,9.0,6.0,10.0,7.0,7.0,8.0,8.0,9.0,12.0,10.0,7.0,8.0,7.0,10.0,10.0,2.0,12.0,8.0,5.0,9.0,12.0,10.0,6.0,10.0,14.0,14.0,8.0,15.0,14.0,15.0,13.0,9.0,6.0,5.0,11.0,6.0,7.0,9.0,6.0,9.0,6.0,9.0,9.0,8.0,10.0,5.0,9.0,7.0,9.0,12.0,8.0,9.0,8.0,9.0,16.0,4.0,11.0,12.0,8.0,7.0,13.0,9.0,12.0,12.0,13.0,6.0,15.0,7.0,10.0,20.0,13.0,11.0,12.0,15.0,5.0,8.0,16.0,6.0,6.0,4.0,7.0,11.0,12.0,11.0,10.0,12.0,3.0,9.0,11.0,11.0,15.0,6.0,12.0,10.0,7.0,11.0,14.0,9.0,5.0,4.0,10.0,9.0,7.0,6.0,17.0,10.0,6.0,8.0,11.0,13.0,9.0,7.0,11.0,8.0,14.0,10.0,14.0,10.0,12.0,13.0,15.0,9.0,14.0,9.0,6.0,6.0,8.0,10.0,11.0,9.0,11.0,9.0,8.0,7.0,11.0,13.0,12.0,7.0,11.0,13.0,9.0,7.0,5.0,10.0,12.0,10.0,8.0,9.0,14.0,11.0,11.0,14.0,8.0,9.0,10.0,18.0,17.0,14.0,11.0,14.0,12.0,11.0,11.0,11.0,16.0,8.0,15.0,8.0,10.0,12.0,14.0,11.0,5.0,17.0,17.0,12.0,8.0,14.0,19.0,11.0,16.0,7.0,15.0,8.0,19.0,14.0,10.0,17.0,14.0,14.0,12.0,16.0,8.0,13.0,6.0,7.0,13.0,11.0,11.0,9.0,10.0,20.0,14.0,15.0,17.0,11.0,13.0,21.0,12.0,18.0,13.0,16.0,17.0,12.0,19.0,16.0,13.0,13.0,12.0,17.0,17.0,12.0,10.0,10.0,15.0,9.0,10.0,14.0,16.0,12.0,12.0,13.0,17.0,11.0,9.0,14.0,16.0,12.0,13.0,10.0,13.0,9.0,12.0,14.0,14.0,12.0,11.0,15.0,15.0,15.0,12.0,22.0,9.0,10.0,14.0,5.0,18.0,13.0,14.0,8.0,14.0,21.0,22.0,16.0,13.0,12.0,14.0,15.0,12.0,16.0,15.0,15.0,15.0,14.0,13.0,11.0,12.0,21.0,15.0,20.0,13.0,24.0,16.0,24.0,19.0,16.0,12.0,15.0,24.0,16.0,14.0,7.0,10.0,16.0,17.0,10.0,16.0,17.0,15.0,20.0,20.0,14.0,26.0,16.0,16.0,11.0,11.0,15.0,11.0,18.0,23.0,12.0,15.0,17.0,16.0,17.0,13.0,15.0,21.0,17.0,16.0,17.0,17.0,17.0,30.0,17.0,12.0,22.0,17.0,15.0,16.0,8.0,23.0,17.0,16.0,15.0,18.0,17.0,18.0,19.0,25.0,12.0,17.0,20.0,23.0,23.0,15.0,17.0,15.0,15.0,28.0,18.0,20.0,18.0,13.0,11.0,10.0,18.0,23.0,18.0,26.0,22.0,16.0,14.0,15.0,22.0,16.0,26.0,19.0,18.0,17.0,17.0,20.0,21.0,14.0,17.0,12.0,14.0,18.0,20.0,15.0,19.0,16.0,22.0,25.0,30.0,20.0,15.0,27.0,19.0,16.0,19.0,23.0,22.0,17.0,16.0,18.0,18.0,16.0,15.0,19.0,17.0,20.0,14.0,21.0,24.0,21.0,16.0,23.0,22.0,20.0,26.0,17.0,13.0,17.0,18.0,14.0,14.0,27.0,15.0,18.0,23.0,20.0,14.0,17.0,20.0,18.0,31.0,22.0,25.0,23.0,22.0,19.0,13.0,22.0,19.0,20.0,20.0,20.0,20.0,24.0,29.0,16.0,15.0,23.0,22.0,14.0,22.0,19.0,20.0,19.0,21.0,11.0,28.0,22.0,14.0,28.0,21.0,14.0,17.0,21.0,23.0,16.0,20.0,27.0,19.0,21.0,9.0,29.0,23.0,24.0,27.0,15.0,35.0,20.0,25.0,23.0,16.0,21.0,28.0,20.0,30.0,26.0,21.0,20.0,20.0,29.0,15.0,20.0,26.0,20.0,20.0,23.0,23.0,36.0,35.0,27.0,19.0,20.0,26.0,34.0,32.0,23.0,40.0,25.0,18.0,26.0,25.0,16.0,25.0,27.0,23.0,23.0,27.0,13.0,21.0,21.0,22.0,27.0,23.0,21.0,31.0,26.0,26.0,25.0,26.0,28.0,28.0,25.0,24.0,22.0,19.0,22.0,18.0,23.0,24.0,26.0,38.0,25.0,19.0,22.0,17.0,26.0,32.0,27.0,29.0,34.0,24.0,30.0,28.0,27.0,20.0,22.0,31.0,25.0,19.0,24.0,26.0,34.0,24.0,35.0,29.0,24.0,24.0,35.0,29.0,25.0,31.0,28.0,27.0,31.0,27.0,25.0,25.0,25.0,24.0,25.0,27.0,24.0,27.0,36.0,27.0,31.0,34.0,29.0,24.0,36.0,43.0,23.0,38.0,23.0,32.0,22.0,27.0,23.0,31.0,33.0,30.0,27.0,37.0,38.0,23.0,31.0,23.0,29.0,37.0,32.0,29.0,37.0,30.0,36.0,26.0,34.0,35.0,43.0,35.0,27.0,32.0,32.0,31.0,31.0,23.0,31.0,38.0,22.0,38.0,31.0,29.0,33.0,36.0,33.0,41.0,32.0,36.0,44.0,34.0,30.0,36.0,45.0,29.0,33.0,30.0,39.0,41.0,26.0,41.0,48.0,43.0,34.0,28.0,35.0,32.0,17.0,40.0,32.0,31.0,33.0,35.0,26.0,36.0,44.0,32.0,37.0,33.0,28.0,38.0,37.0,38.0,34.0,46.0,35.0,42.0,24.0,33.0,41.0,41.0,37.0,39.0,39.0,46.0,56.0,47.0,30.0,37.0,38.0,43.0,42.0,37.0,41.0,35.0,50.0,57.0,24.0,49.0,43.0,42.0,37.0,30.0,45.0,43.0,53.0,49.0,38.0,33.0,41.0,44.0,49.0,41.0,38.0,50.0,53.0,48.0,36.0,36.0,46.0,42.0,38.0,61.0,53.0,41.0,45.0,40.0,32.0,41.0,51.0,32.0,50.0,53.0,42.0,35.0,43.0,52.0,49.0,41.0,51.0,44.0,45.0,51.0,40.0,46.0,52.0,48.0,49.0,47.0,51.0,45.0,55.0,66.0,37.0,50.0,48.0,53.0,52.0,48.0,59.0,37.0,39.0,45.0,42.0,54.0,44.0,55.0,59.0,50.0,38.0,58.0,46.0,60.0,56.0,59.0,53.0,48.0,57.0,62.0,66.0,52.0,56.0,41.0,56.0,52.0,51.0,62.0,66.0,66.0,61.0,43.0,64.0,47.0,47.0,62.0,53.0,72.0,62.0,62.0,41.0,51.0,52.0,58.0,64.0,51.0,76.0,67.0,73.0,57.0,43.0,55.0,67.0,67.0,62.0,53.0,67.0,77.0,68.0,60.0,76.0,66.0,58.0,63.0,72.0,74.0,71.0,68.0,76.0,62.0,60.0,74.0,59.0,51.0,63.0,77.0,58.0,74.0,61.0,71.0,63.0,66.0,67.0,61.0,67.0,70.0,62.0,73.0,62.0,67.0,70.0,74.0,65.0,82.0,62.0,79.0,73.0,85.0,74.0,72.0,67.0,74.0,77.0,77.0,91.0,71.0,79.0,77.0,80.0,77.0,73.0,91.0,83.0,74.0,68.0,72.0,88.0,74.0,68.0,98.0,85.0,83.0,67.0,83.0,83.0,76.0,88.0,73.0,83.0,78.0,76.0,76.0,73.0,87.0,95.0,86.0,94.0,74.0,87.0,89.0,81.0,87.0,97.0,97.0,78.0,96.0,89.0,94.0,96.0,91.0,103.0,85.0,93.0,101.0,78.0,95.0,100.0,95.0,113.0,100.0,111.0,80.0,89.0,104.0,96.0,99.0,108.0,96.0,110.0,90.0,98.0,104.0,134.0,117.0,117.0,122.0,104.0,112.0,103.0,90.0,86.0,103.0,116.0,112.0,108.0,113.0,116.0,103.0,106.0,95.0,127.0,121.0,112.0,117.0,124.0,111.0,119.0,126.0,125.0,106.0,130.0,127.0,127.0,142.0,125.0,129.0,131.0,130.0,128.0,121.0,126.0,137.0,156.0,155.0,136.0,145.0,118.0,131.0,121.0,135.0,126.0,125.0,155.0,154.0,125.0,116.0,141.0,121.0,141.0,159.0,143.0,144.0,152.0,147.0,165.0,130.0,151.0,152.0,154.0,165.0,153.0,161.0,154.0,154.0,179.0,165.0,139.0,172.0,164.0,155.0,195.0,169.0,151.0,167.0,168.0,180.0,157.0,177.0,164.0,159.0,157.0,188.0,188.0,187.0,169.0,168.0,190.0,186.0,186.0,179.0,180.0,183.0,196.0,184.0,206.0,199.0,203.0,199.0,222.0,203.0,211.0,209.0,214.0,207.0,198.0,217.0,228.0,202.0,228.0,205.0,211.0,247.0,222.0,249.0,230.0,216.0,253.0,225.0,233.0,219.0,244.0,235.0,238.0,228.0,256.0,254.0,248.0,253.0,243.0,242.0,274.0,277.0,255.0,287.0,255.0,307.0,307.0,271.0,299.0,303.0,298.0,308.0,262.0,283.0,298.0,331.0,303.0,315.0,319.0,308.0,291.0,317.0,345.0,325.0,343.0,387.0,347.0,405.0,388.0,353.0,347.0,375.0,397.0,355.0,374.0,412.0,399.0,374.0,403.0,405.0,388.0,399.0,417.0,431.0,404.0,435.0,441.0,405.0,455.0,415.0,460.0,482.0,487.0,466.0,507.0,463.0,536.0,524.0,479.0,496.0,591.0,579.0,561.0,577.0,589.0,606.0,585.0,588.0,615.0,578.0,584.0,610.0,620.0,629.0,632.0,659.0,704.0,662.0,720.0,712.0,713.0,766.0,749.0,779.0,786.0,841.0,823.0,892.0,822.0,848.0,832.0,919.0,920.0,934.0,959.0,987.0,1015.0,1000.0,1065.0,1098.0,1082.0,1096.0,1179.0,1121.0,1178.0,1292.0,1290.0,1334.0,1356.0,1335.0,1365.0,1444.0,1521.0,1533.0,1592.0,1620.0,1662.0,1712.0,1811.0,1835.0,1917.0,2021.0,2132.0,2166.0,2257.0,2281.0,2376.0,2449.0,2693.0,2762.0,2879.0,3120.0,3340.0,3414.0,3782.0,3786.0,4225.0,4563.0,4940.0,5334.0,5846.0,6592.0,7693.0,8867.0,11192.0,14146.0,20437.0,33314.0,76962.0],\"textposition\":\"outside\",\"x\":[27186,26614,25136,22543,20883,20504,20188,19640,19043,18506,17431,17286,17052,16455,16043,15892,15525,15236,15002,14790,14651,14049,13998,13644,13169,12872,12816,12728,12718,12706,12462,12349,12327,12178,12120,12108,12055,11836,11761,11612,11526,11359,11317,11174,11096,11087,11057,11011,10994,10908,10816,10794,10782,10690,10619,10608,10565,10510,10498,10484,10419,10402,10251,10250,10229,10201,10162,10143,10132,10101,10079,10052,10000,9852,9735,9726,9708,9645,9572,9567,9496,9410,9378,9375,9311,9302,9260,9258,9246,9221,9200,9197,9191,9157,9144,9115,9104,9077,9041,8974,8973,8915,8887,8819,8816,8802,8752,8751,8701,8694,8691,8652,8625,8602,8599,8572,8560,8514,8467,8443,8436,8431,8428,8415,8383,8344,8322,8303,8298,8281,8267,8266,8228,8227,8206,8182,8174,8119,8106,8081,8068,8065,8059,8020,7987,7968,7938,7933,7932,7930,7920,7908,7878,7870,7845,7837,7819,7811,7782,7758,7752,7751,7742,7731,7723,7716,7711,7704,7703,7651,7641,7619,7598,7565,7561,7541,7533,7505,7488,7477,7451,7422,7413,7390,7374,7367,7364,7328,7323,7319,7315,7303,7290,7282,7276,7271,7268,7265,7250,7245,7228,7213,7204,7198,7186,7166,7156,7144,7140,7138,7131,7127,7117,7102,7042,7039,7029,7018,6995,6994,6971,6961,6957,6951,6950,6947,6892,6886,6881,6879,6873,6864,6860,6856,6850,6839,6835,6834,6797,6784,6751,6749,6746,6735,6723,6688,6663,6654,6651,6645,6637,6630,6579,6561,6547,6538,6536,6535,6533,6526,6511,6507,6487,6464,6452,6448,6444,6442,6432,6422,6416,6392,6384,6383,6339,6330,6321,6317,6302,6293,6289,6287,6282,6263,6255,6237,6229,6220,6211,6200,6199,6197,6193,6191,6190,6187,6185,6179,6156,6154,6144,6128,6122,6112,6100,6085,6081,6073,6070,6064,6053,6036,6032,6018,6010,6003,5984,5957,5954,5949,5948,5927,5900,5897,5894,5876,5871,5857,5854,5843,5840,5825,5815,5802,5796,5787,5784,5758,5753,5752,5749,5748,5741,5737,5733,5732,5716,5705,5701,5698,5688,5686,5678,5675,5669,5665,5664,5657,5656,5655,5643,5638,5634,5628,5621,5611,5607,5605,5603,5597,5594,5579,5578,5572,5564,5561,5559,5558,5557,5550,5544,5540,5535,5534,5533,5521,5516,5506,5500,5494,5490,5487,5485,5484,5478,5459,5453,5445,5441,5426,5422,5403,5385,5373,5369,5355,5351,5348,5337,5333,5330,5326,5315,5312,5301,5299,5286,5272,5271,5265,5259,5257,5255,5252,5242,5240,5231,5221,5213,5211,5206,5205,5201,5190,5188,5186,5179,5178,5155,5152,5148,5147,5145,5143,5136,5132,5131,5129,5128,5122,5114,5096,5094,5087,5085,5073,5069,5068,5065,5054,5052,5051,5047,5046,5033,5032,5031,5029,5025,5023,5020,5014,5010,5002,4998,4988,4984,4980,4978,4975,4974,4971,4969,4965,4961,4960,4955,4953,4948,4940,4934,4931,4926,4925,4918,4916,4910,4904,4900,4896,4895,4891,4889,4888,4875,4860,4854,4851,4849,4846,4841,4840,4836,4833,4824,4817,4801,4798,4788,4786,4785,4784,4783,4779,4778,4777,4773,4770,4765,4763,4762,4760,4758,4757,4756,4751,4750,4743,4738,4737,4735,4730,4722,4721,4714,4713,4712,4711,4707,4700,4698,4693,4689,4682,4677,4672,4669,4668,4656,4648,4645,4644,4640,4638,4635,4633,4632,4626,4625,4623,4622,4619,4611,4608,4600,4599,4595,4589,4574,4573,4572,4568,4567,4565,4564,4560,4556,4547,4544,4540,4538,4531,4529,4527,4525,4522,4520,4518,4502,4492,4489,4488,4485,4484,4481,4474,4466,4461,4459,4458,4456,4440,4439,4436,4433,4417,4412,4411,4404,4399,4397,4396,4395,4388,4384,4378,4377,4375,4374,4371,4367,4365,4359,4358,4355,4352,4350,4348,4347,4338,4333,4332,4328,4327,4325,4322,4320,4319,4318,4316,4311,4299,4297,4295,4291,4281,4278,4275,4273,4266,4263,4261,4259,4257,4256,4255,4254,4249,4244,4243,4236,4234,4233,4227,4224,4216,4213,4212,4209,4205,4204,4199,4195,4193,4186,4185,4184,4181,4179,4178,4172,4160,4158,4157,4155,4152,4143,4142,4141,4135,4134,4133,4131,4130,4129,4127,4124,4121,4119,4117,4115,4112,4111,4100,4099,4097,4093,4089,4084,4083,4082,4079,4077,4076,4073,4071,4065,4063,4062,4061,4059,4058,4056,4054,4052,4045,4039,4038,4035,4034,4033,4030,4026,4025,4024,4023,4019,4017,4016,4015,4013,4008,4005,4004,4001,3998,3997,3992,3990,3987,3986,3985,3984,3981,3980,3977,3973,3972,3971,3970,3968,3966,3965,3964,3961,3959,3957,3955,3954,3944,3943,3942,3938,3937,3934,3923,3921,3920,3919,3915,3914,3911,3910,3903,3902,3901,3900,3897,3892,3891,3888,3885,3884,3882,3879,3878,3877,3871,3864,3859,3853,3850,3849,3845,3843,3840,3838,3836,3835,3832,3828,3823,3816,3812,3811,3810,3807,3806,3802,3799,3796,3795,3794,3792,3791,3785,3783,3781,3774,3773,3769,3768,3764,3762,3761,3759,3756,3751,3749,3747,3746,3745,3742,3739,3738,3736,3735,3727,3725,3723,3721,3718,3717,3716,3714,3713,3712,3711,3710,3706,3705,3703,3702,3700,3698,3694,3692,3691,3688,3686,3685,3682,3676,3672,3671,3668,3666,3665,3660,3659,3657,3649,3648,3647,3646,3645,3640,3639,3637,3635,3634,3629,3627,3622,3621,3619,3618,3617,3614,3611,3610,3609,3604,3600,3597,3596,3594,3593,3592,3591,3590,3587,3580,3577,3576,3575,3574,3572,3570,3568,3567,3565,3564,3563,3562,3558,3557,3556,3555,3554,3549,3547,3546,3545,3544,3542,3541,3539,3535,3534,3531,3527,3526,3524,3523,3517,3516,3515,3510,3509,3506,3505,3504,3503,3501,3500,3499,3494,3492,3489,3488,3486,3485,3484,3480,3479,3477,3475,3474,3472,3470,3469,3467,3462,3458,3456,3447,3445,3438,3436,3435,3434,3433,3432,3431,3430,3428,3426,3424,3423,3422,3419,3418,3417,3416,3411,3409,3406,3405,3403,3402,3399,3397,3396,3394,3393,3392,3391,3390,3388,3387,3385,3383,3379,3376,3374,3373,3372,3371,3369,3363,3362,3359,3357,3355,3354,3353,3351,3350,3348,3347,3346,3342,3341,3340,3339,3335,3334,3333,3332,3331,3330,3328,3323,3321,3319,3318,3317,3312,3308,3306,3305,3303,3302,3301,3300,3299,3295,3294,3291,3290,3288,3287,3286,3283,3282,3281,3280,3277,3274,3273,3272,3271,3266,3265,3264,3262,3260,3258,3257,3256,3252,3251,3249,3247,3245,3243,3237,3236,3235,3232,3231,3230,3227,3225,3223,3221,3219,3218,3217,3216,3213,3210,3208,3207,3204,3203,3199,3198,3197,3196,3194,3193,3192,3190,3189,3186,3185,3184,3183,3180,3177,3175,3169,3168,3167,3166,3164,3163,3162,3161,3160,3159,3158,3155,3152,3151,3150,3147,3146,3144,3142,3140,3139,3138,3133,3132,3129,3128,3126,3125,3124,3123,3122,3121,3120,3117,3116,3114,3112,3110,3107,3106,3105,3104,3102,3099,3097,3096,3094,3093,3089,3086,3083,3080,3079,3076,3075,3074,3072,3071,3067,3065,3064,3063,3061,3055,3053,3052,3050,3046,3045,3044,3043,3041,3038,3037,3033,3032,3031,3029,3028,3026,3025,3023,3022,3021,3017,3016,3015,3014,3012,3011,3010,3009,3004,3003,3001,3000,2998,2997,2996,2995,2994,2993,2990,2986,2985,2984,2983,2982,2981,2980,2979,2978,2977,2976,2975,2973,2972,2971,2966,2965,2964,2963,2961,2960,2958,2955,2954,2953,2952,2951,2950,2948,2944,2942,2941,2940,2939,2937,2936,2935,2932,2931,2930,2929,2928,2927,2925,2924,2923,2921,2920,2919,2917,2916,2914,2913,2912,2911,2905,2904,2903,2902,2895,2894,2892,2890,2889,2888,2887,2885,2884,2883,2879,2877,2875,2873,2872,2871,2870,2861,2860,2859,2857,2856,2853,2851,2849,2848,2847,2846,2845,2844,2843,2841,2835,2834,2833,2832,2831,2828,2827,2826,2824,2823,2821,2820,2819,2818,2816,2815,2814,2812,2811,2809,2807,2804,2803,2801,2800,2798,2797,2796,2792,2791,2790,2789,2788,2787,2786,2785,2784,2783,2781,2780,2778,2776,2775,2774,2773,2772,2771,2770,2769,2768,2767,2763,2762,2761,2758,2756,2755,2753,2750,2749,2748,2746,2745,2744,2743,2739,2738,2735,2734,2733,2732,2731,2730,2728,2727,2726,2725,2720,2719,2718,2715,2712,2711,2709,2708,2706,2705,2704,2700,2699,2698,2696,2695,2694,2693,2692,2691,2690,2687,2686,2685,2684,2683,2682,2681,2680,2679,2678,2675,2674,2673,2671,2670,2668,2667,2666,2665,2664,2663,2662,2661,2660,2659,2657,2655,2653,2652,2650,2649,2647,2646,2645,2642,2641,2640,2639,2638,2637,2636,2635,2634,2632,2631,2630,2629,2628,2627,2626,2625,2623,2621,2620,2619,2617,2616,2615,2614,2613,2612,2611,2610,2608,2607,2606,2604,2603,2602,2601,2600,2599,2598,2596,2595,2594,2593,2591,2590,2589,2588,2587,2586,2584,2583,2582,2581,2580,2579,2578,2576,2575,2574,2573,2572,2571,2570,2569,2568,2567,2566,2565,2564,2560,2559,2558,2557,2555,2554,2553,2552,2551,2549,2548,2547,2544,2543,2542,2541,2540,2539,2538,2537,2536,2535,2534,2533,2531,2530,2529,2528,2527,2526,2525,2524,2522,2521,2519,2518,2517,2515,2514,2513,2511,2510,2509,2508,2506,2504,2503,2502,2501,2499,2498,2496,2494,2493,2492,2491,2490,2489,2488,2487,2486,2485,2483,2482,2480,2479,2477,2476,2475,2474,2473,2472,2469,2467,2466,2465,2464,2461,2460,2458,2457,2456,2455,2454,2453,2450,2449,2448,2447,2446,2445,2443,2442,2441,2440,2438,2437,2436,2434,2433,2431,2430,2428,2426,2424,2423,2422,2421,2420,2419,2417,2416,2415,2414,2413,2412,2411,2410,2409,2407,2406,2405,2403,2402,2401,2400,2398,2397,2396,2395,2394,2393,2391,2390,2386,2385,2384,2383,2382,2381,2380,2379,2378,2377,2376,2375,2374,2373,2372,2371,2370,2369,2367,2366,2365,2363,2362,2361,2360,2359,2358,2357,2356,2355,2354,2353,2352,2351,2349,2348,2347,2346,2345,2343,2342,2341,2340,2339,2338,2337,2334,2333,2332,2331,2330,2328,2327,2326,2325,2323,2322,2321,2320,2319,2317,2316,2315,2314,2313,2312,2311,2310,2309,2308,2307,2306,2305,2304,2303,2302,2301,2300,2299,2298,2296,2295,2294,2293,2292,2291,2290,2289,2288,2287,2286,2285,2284,2283,2282,2281,2280,2279,2278,2276,2275,2274,2273,2272,2271,2270,2269,2268,2266,2265,2264,2263,2262,2261,2260,2258,2257,2256,2255,2254,2253,2252,2251,2249,2248,2247,2243,2242,2241,2240,2239,2238,2237,2236,2233,2232,2230,2229,2228,2227,2226,2225,2224,2223,2222,2221,2220,2219,2218,2217,2216,2214,2213,2212,2211,2210,2209,2208,2207,2206,2204,2203,2202,2201,2199,2198,2197,2195,2194,2193,2192,2191,2190,2189,2188,2187,2185,2184,2183,2182,2181,2180,2178,2177,2176,2175,2174,2173,2172,2170,2169,2168,2167,2166,2165,2164,2163,2162,2161,2160,2159,2158,2157,2156,2155,2154,2153,2152,2151,2150,2149,2148,2147,2146,2145,2144,2143,2142,2141,2140,2139,2138,2137,2136,2134,2133,2132,2130,2129,2128,2127,2126,2125,2124,2123,2122,2121,2120,2119,2118,2117,2116,2115,2114,2113,2112,2111,2110,2109,2108,2107,2106,2105,2103,2102,2101,2100,2099,2098,2097,2096,2093,2092,2091,2090,2089,2088,2087,2086,2085,2083,2082,2081,2080,2079,2078,2077,2076,2074,2073,2072,2071,2069,2068,2067,2066,2065,2064,2063,2062,2061,2060,2059,2058,2057,2056,2055,2054,2053,2052,2051,2050,2049,2048,2047,2046,2045,2044,2043,2042,2041,2040,2039,2038,2037,2036,2035,2034,2033,2032,2031,2030,2029,2028,2027,2026,2025,2024,2023,2022,2021,2020,2018,2017,2016,2015,2014,2013,2012,2010,2009,2008,2007,2006,2005,2004,2003,2002,2001,2000,1999,1998,1996,1995,1994,1993,1992,1991,1990,1989,1988,1987,1986,1985,1984,1983,1982,1981,1980,1979,1978,1977,1976,1975,1974,1973,1972,1971,1970,1969,1968,1967,1966,1965,1964,1963,1962,1961,1960,1959,1958,1957,1956,1955,1954,1953,1952,1951,1950,1949,1948,1946,1945,1944,1943,1942,1941,1940,1939,1938,1937,1936,1935,1934,1933,1932,1931,1930,1929,1928,1927,1926,1925,1924,1923,1922,1921,1920,1919,1918,1917,1916,1915,1914,1913,1912,1911,1910,1909,1908,1907,1906,1905,1904,1903,1902,1901,1899,1898,1897,1896,1894,1893,1892,1891,1890,1889,1888,1887,1886,1885,1884,1883,1882,1881,1880,1879,1878,1877,1876,1875,1874,1873,1872,1871,1870,1869,1868,1867,1866,1864,1863,1862,1861,1860,1859,1858,1857,1856,1855,1854,1853,1852,1851,1850,1849,1848,1847,1846,1845,1844,1843,1842,1841,1840,1839,1838,1837,1835,1833,1832,1831,1830,1829,1828,1827,1826,1825,1824,1823,1822,1821,1820,1819,1818,1817,1816,1815,1814,1813,1812,1811,1810,1809,1808,1807,1806,1805,1804,1803,1802,1801,1800,1799,1798,1797,1796,1795,1794,1793,1792,1791,1790,1789,1788,1787,1786,1785,1784,1783,1782,1781,1780,1779,1778,1777,1776,1775,1774,1773,1772,1770,1769,1768,1767,1766,1765,1764,1763,1762,1761,1760,1759,1758,1757,1756,1755,1754,1753,1752,1751,1750,1749,1748,1747,1746,1745,1744,1743,1742,1741,1740,1739,1738,1737,1736,1735,1734,1733,1732,1731,1730,1729,1728,1727,1726,1725,1724,1723,1722,1721,1720,1719,1718,1717,1716,1715,1714,1713,1712,1711,1710,1709,1708,1707,1706,1705,1704,1703,1702,1701,1700,1699,1698,1697,1696,1695,1694,1693,1692,1691,1690,1689,1688,1687,1686,1685,1684,1683,1682,1681,1680,1679,1678,1677,1676,1675,1674,1673,1672,1671,1670,1669,1668,1667,1666,1665,1664,1663,1662,1661,1660,1659,1658,1657,1656,1655,1654,1653,1652,1651,1650,1649,1648,1647,1646,1645,1644,1643,1642,1641,1640,1639,1638,1637,1636,1635,1634,1633,1632,1631,1630,1629,1628,1627,1626,1625,1624,1623,1622,1621,1620,1619,1618,1617,1616,1615,1614,1613,1612,1611,1610,1609,1608,1607,1606,1605,1604,1603,1602,1601,1600,1599,1598,1597,1596,1595,1594,1593,1592,1591,1590,1589,1588,1587,1585,1584,1583,1582,1581,1580,1579,1578,1577,1576,1575,1574,1573,1572,1571,1570,1569,1568,1567,1566,1565,1564,1563,1562,1561,1560,1559,1558,1557,1556,1555,1554,1553,1552,1551,1550,1549,1548,1547,1546,1545,1544,1543,1542,1541,1540,1539,1538,1537,1536,1535,1534,1533,1532,1531,1530,1529,1528,1527,1526,1525,1524,1523,1522,1521,1520,1519,1518,1517,1516,1515,1514,1513,1512,1511,1510,1509,1508,1507,1506,1505,1504,1503,1502,1501,1500,1499,1498,1497,1496,1495,1494,1493,1492,1491,1490,1489,1488,1487,1486,1485,1484,1483,1482,1481,1480,1479,1478,1477,1476,1475,1474,1473,1472,1471,1470,1469,1468,1467,1466,1465,1464,1463,1462,1461,1460,1459,1458,1457,1456,1455,1454,1453,1452,1451,1450,1449,1448,1447,1446,1445,1444,1443,1442,1441,1440,1439,1438,1437,1436,1435,1434,1433,1432,1431,1430,1429,1428,1427,1426,1425,1424,1423,1422,1421,1420,1419,1418,1417,1416,1415,1414,1413,1412,1411,1410,1409,1408,1407,1406,1405,1404,1403,1402,1401,1400,1399,1398,1397,1396,1395,1394,1393,1392,1391,1390,1389,1388,1387,1386,1385,1384,1383,1382,1381,1380,1379,1378,1377,1376,1375,1374,1373,1372,1371,1370,1369,1368,1367,1366,1365,1364,1363,1362,1361,1360,1359,1358,1357,1356,1355,1354,1353,1352,1351,1350,1349,1348,1347,1346,1345,1344,1343,1342,1341,1340,1339,1338,1337,1336,1335,1334,1333,1332,1331,1330,1329,1328,1327,1326,1325,1324,1323,1322,1321,1320,1319,1318,1317,1316,1315,1314,1313,1312,1311,1310,1309,1308,1307,1306,1305,1304,1303,1302,1301,1300,1299,1298,1297,1296,1295,1294,1293,1292,1291,1290,1289,1288,1287,1286,1285,1284,1283,1282,1281,1280,1279,1278,1277,1276,1275,1274,1273,1272,1271,1270,1269,1268,1267,1266,1265,1264,1263,1262,1261,1260,1259,1258,1257,1256,1255,1254,1253,1252,1251,1250,1249,1248,1247,1246,1245,1244,1243,1242,1241,1240,1239,1238,1237,1236,1235,1234,1233,1232,1231,1230,1229,1228,1227,1226,1225,1224,1223,1222,1221,1220,1219,1218,1217,1216,1215,1214,1213,1212,1211,1210,1209,1208,1207,1206,1205,1204,1203,1202,1201,1200,1199,1198,1197,1196,1195,1194,1193,1192,1191,1190,1189,1188,1187,1186,1185,1184,1183,1182,1181,1180,1179,1178,1177,1176,1175,1174,1173,1172,1171,1170,1169,1168,1167,1166,1165,1164,1163,1162,1161,1160,1159,1158,1157,1156,1155,1154,1153,1152,1151,1150,1149,1148,1147,1146,1145,1144,1143,1142,1141,1140,1139,1138,1137,1136,1135,1134,1133,1132,1131,1130,1129,1128,1127,1126,1125,1124,1123,1122,1121,1120,1119,1118,1117,1116,1115,1114,1113,1112,1111,1110,1109,1108,1107,1106,1105,1104,1103,1102,1101,1100,1099,1098,1097,1096,1095,1094,1093,1092,1091,1090,1089,1088,1087,1086,1085,1084,1083,1082,1081,1080,1079,1078,1077,1076,1075,1074,1073,1072,1071,1070,1069,1068,1067,1066,1065,1064,1063,1062,1061,1060,1059,1058,1057,1056,1055,1054,1053,1052,1051,1050,1049,1048,1047,1046,1045,1044,1043,1042,1041,1040,1039,1038,1037,1036,1035,1034,1033,1032,1031,1030,1029,1028,1027,1026,1025,1024,1023,1022,1021,1020,1019,1018,1017,1016,1015,1014,1013,1012,1011,1010,1009,1008,1007,1006,1005,1004,1003,1002,1001,1000,999,998,997,996,995,994,993,992,991,990,989,988,987,986,985,984,983,982,981,980,979,978,977,976,975,974,973,972,971,970,969,968,967,966,965,964,963,962,961,960,959,958,957,956,955,954,953,952,951,950,949,948,947,946,945,944,943,942,941,940,939,938,937,936,935,934,933,932,931,930,929,928,927,926,925,924,923,922,921,920,919,918,917,916,915,914,913,912,911,910,909,908,907,906,905,904,903,902,901,900,899,898,897,896,895,894,893,892,891,890,889,888,887,886,885,884,883,882,881,880,879,878,877,876,875,874,873,872,871,870,869,868,867,866,865,864,863,862,861,860,859,858,857,856,855,854,853,852,851,850,849,848,847,846,845,844,843,842,841,840,839,838,837,836,835,834,833,832,831,830,829,828,827,826,825,824,823,822,821,820,819,818,817,816,815,814,813,812,811,810,809,808,807,806,805,804,803,802,801,800,799,798,797,796,795,794,793,792,791,790,789,788,787,786,785,784,783,782,781,780,779,778,777,776,775,774,773,772,771,770,769,768,767,766,765,764,763,762,761,760,759,758,757,756,755,754,753,752,751,750,749,748,747,746,745,744,743,742,741,740,739,738,737,736,735,734,733,732,731,730,729,728,727,726,725,724,723,722,721,720,719,718,717,716,715,714,713,712,711,710,709,708,707,706,705,704,703,702,701,700,699,698,697,696,695,694,693,692,691,690,689,688,687,686,685,684,683,682,681,680,679,678,677,676,675,674,673,672,671,670,669,668,667,666,665,664,663,662,661,660,659,658,657,656,655,654,653,652,651,650,649,648,647,646,645,644,643,642,641,640,639,638,637,636,635,634,633,632,631,630,629,628,627,626,625,624,623,622,621,620,619,618,617,616,615,614,613,612,611,610,609,608,607,606,605,604,603,602,601,600,599,598,597,596,595,594,593,592,591,590,589,588,587,586,585,584,583,582,581,580,579,578,577,576,575,574,573,572,571,570,569,568,567,566,565,564,563,562,561,560,559,558,557,556,555,554,553,552,551,550,549,548,547,546,545,544,543,542,541,540,539,538,537,536,535,534,533,532,531,530,529,528,527,526,525,524,523,522,521,520,519,518,517,516,515,514,513,512,511,510,509,508,507,506,505,504,503,502,501,500,499,498,497,496,495,494,493,492,491,490,489,488,487,486,485,484,483,482,481,480,479,478,477,476,475,474,473,472,471,470,469,468,467,466,465,464,463,462,461,460,459,458,457,456,455,454,453,452,451,450,449,448,447,446,445,444,443,442,441,440,439,438,437,436,435,434,433,432,431,430,429,428,427,426,425,424,423,422,421,420,419,418,417,416,415,414,413,412,411,410,409,408,407,406,405,404,403,402,401,400,399,398,397,396,395,394,393,392,391,390,389,388,387,386,385,384,383,382,381,380,379,378,377,376,375,374,373,372,371,370,369,368,367,366,365,364,363,362,361,360,359,358,357,356,355,354,353,352,351,350,349,348,347,346,345,344,343,342,341,340,339,338,337,336,335,334,333,332,331,330,329,328,327,326,325,324,323,322,321,320,319,318,317,316,315,314,313,312,311,310,309,308,307,306,305,304,303,302,301,300,299,298,297,296,295,294,293,292,291,290,289,288,287,286,285,284,283,282,281,280,279,278,277,276,275,274,273,272,271,270,269,268,267,266,265,264,263,262,261,260,259,258,257,256,255,254,253,252,251,250,249,248,247,246,245,244,243,242,241,240,239,238,237,236,235,234,233,232,231,230,229,228,227,226,225,224,223,222,221,220,219,218,217,216,215,214,213,212,211,210,209,208,207,206,205,204,203,202,201,200,199,198,197,196,195,194,193,192,191,190,189,188,187,186,185,184,183,182,181,180,179,178,177,176,175,174,173,172,171,170,169,168,167,166,165,164,163,162,161,160,159,158,157,156,155,154,153,152,151,150,149,148,147,146,145,144,143,142,141,140,139,138,137,136,135,134,133,132,131,130,129,128,127,126,125,124,123,122,121,120,119,118,117,116,115,114,113,112,111,110,109,108,107,106,105,104,103,102,101,100,99,98,97,96,95,94,93,92,91,90,89,88,87,86,85,84,83,82,81,80,79,78,77,76,75,74,73,72,71,70,69,68,67,66,65,64,63,62,61,60,59,58,57,56,55,54,53,52,51,50,49,48,47,46,45,44,43,42,41,40,39,38,37,36,35,34,33,32,31,30,29,28,27,26,25,24,23,22,21,20,19,18,17,16,15,14,13,12,11,10,9,8,7,6,5,4,3,2,1],\"xaxis\":\"x\",\"y\":[1,1,1,1,1,1,1,1,1,1,1,1,1,1,1,1,1,1,1,1,1,1,1,1,1,1,1,1,1,1,1,1,1,1,1,1,1,1,1,1,1,1,1,1,1,1,1,1,1,1,1,1,1,1,1,1,1,1,1,1,1,1,1,1,1,1,1,1,1,1,1,1,1,1,1,1,1,1,1,1,1,1,1,1,1,1,1,1,1,1,1,1,1,1,1,2,1,1,1,1,1,1,1,1,1,1,1,1,1,1,1,1,1,1,1,1,1,1,1,1,1,1,1,1,1,1,1,1,1,1,1,1,1,1,1,1,1,1,1,1,1,1,1,1,1,1,1,1,1,1,1,1,2,1,1,1,1,1,1,1,1,1,1,1,1,1,1,1,1,1,1,1,1,1,2,1,1,1,1,1,1,1,1,1,1,1,1,1,1,1,1,1,1,1,1,2,1,1,1,1,1,1,1,1,1,1,1,1,1,2,1,1,1,1,1,1,1,1,1,1,1,1,1,1,1,1,1,1,1,1,1,1,1,1,1,1,1,1,1,1,1,1,1,1,1,1,1,1,1,1,1,2,1,1,1,1,1,1,1,1,1,1,1,1,1,1,1,1,1,1,1,1,1,1,1,1,1,1,1,1,1,1,1,1,2,1,1,1,1,1,1,1,1,1,1,2,1,1,1,1,1,1,1,1,1,1,1,1,1,1,1,1,1,1,1,1,1,1,1,1,1,1,1,1,1,1,1,1,1,1,1,1,1,1,1,1,1,1,1,1,1,1,1,1,1,1,1,1,1,1,2,1,1,1,1,1,1,3,1,1,1,1,1,1,1,1,1,2,1,1,1,1,1,1,1,1,3,1,1,1,1,1,1,1,1,1,1,1,1,1,1,1,1,1,1,1,2,1,2,1,1,1,1,1,1,1,1,1,1,1,1,1,1,1,1,1,1,1,1,1,1,2,1,1,1,1,1,1,2,1,1,2,1,1,1,1,2,1,1,1,1,1,1,1,2,1,1,2,2,2,1,1,1,1,1,1,1,1,1,1,1,1,2,1,1,1,1,1,1,1,1,1,2,2,1,1,1,1,2,1,1,1,1,1,1,1,1,1,1,1,1,1,1,1,1,1,1,1,1,1,2,2,1,1,1,1,2,2,1,1,1,1,1,1,2,2,1,1,1,1,1,1,2,1,1,1,1,1,1,1,1,1,3,1,1,1,1,1,1,1,1,1,1,1,1,1,1,1,1,1,1,1,1,1,3,1,1,1,1,1,1,1,1,1,1,1,1,1,2,2,2,1,1,1,1,2,1,1,1,1,1,1,1,1,1,1,3,1,1,3,1,1,1,2,1,1,1,1,1,1,1,1,1,1,1,1,1,1,1,1,2,1,1,1,1,1,1,1,1,1,1,1,1,2,2,2,1,1,1,1,1,1,1,1,1,2,1,2,1,1,2,2,1,2,2,1,1,1,1,1,1,1,1,1,1,1,1,1,1,1,2,1,2,1,1,1,1,1,1,1,1,2,1,1,1,2,1,1,2,1,1,1,1,1,2,1,1,2,1,1,1,1,1,1,1,2,1,1,1,1,1,1,1,2,1,1,1,1,1,1,1,1,2,2,1,1,1,1,1,1,1,1,1,1,1,1,1,2,1,1,1,1,2,1,1,1,2,1,2,1,1,1,1,2,1,1,1,1,1,2,1,1,1,1,1,2,2,1,1,1,1,1,2,1,1,1,1,1,1,2,1,1,1,1,1,1,1,1,2,2,1,1,1,1,1,1,2,1,1,1,1,1,1,1,1,1,1,1,1,1,3,2,2,1,1,1,1,2,1,1,2,1,2,2,1,1,1,1,1,3,1,1,1,1,1,1,1,1,1,1,2,1,1,1,1,1,1,4,1,1,1,1,2,1,1,1,2,2,1,1,1,1,2,1,2,2,1,1,2,1,1,1,1,2,1,2,2,1,1,1,1,1,1,1,1,1,1,1,1,1,1,1,1,2,1,2,2,1,1,1,2,1,1,1,1,1,2,1,1,1,1,3,3,2,1,1,1,3,1,1,1,4,2,2,2,1,2,1,2,1,1,1,1,1,1,1,1,1,2,1,1,1,1,1,1,1,3,4,1,2,2,1,1,1,2,3,1,2,1,1,1,1,1,2,2,1,1,1,1,1,1,1,1,1,1,1,1,1,2,2,1,1,1,1,4,1,2,1,1,1,1,1,1,1,2,1,1,2,1,1,2,1,2,2,1,2,1,1,1,1,1,1,1,1,3,1,1,1,1,1,1,1,2,1,1,1,1,2,1,1,3,2,1,2,2,1,1,3,2,1,1,1,2,1,1,1,1,1,1,1,1,1,1,1,2,1,1,1,1,1,1,1,2,1,2,2,1,1,1,1,2,1,3,1,1,1,1,1,2,1,1,1,2,1,1,1,2,1,2,1,1,1,2,1,1,1,3,3,2,1,1,1,1,1,1,2,1,1,1,4,2,1,1,1,2,2,1,1,2,3,2,2,2,2,2,1,1,1,1,1,2,1,1,1,1,1,2,1,1,2,2,1,1,1,1,1,4,1,1,1,2,1,2,2,2,1,2,1,2,1,1,1,1,1,2,1,1,2,2,1,1,1,3,2,1,4,2,1,2,1,2,1,1,2,2,3,2,1,2,1,1,2,3,2,1,2,1,1,2,1,1,1,1,1,1,1,1,1,1,2,1,1,3,1,1,1,1,2,1,1,2,3,3,2,3,3,2,3,2,2,2,1,1,3,1,1,1,1,4,1,1,3,1,3,1,2,1,2,1,3,1,1,1,1,2,1,3,1,4,3,3,1,1,1,3,1,1,2,1,1,1,1,2,2,4,3,1,1,1,1,1,1,1,1,2,1,4,3,1,1,1,3,2,2,2,1,2,2,1,1,1,1,1,1,1,2,3,1,2,2,2,2,2,2,1,3,2,2,1,2,2,2,2,1,1,1,5,3,1,2,1,1,1,1,1,1,5,1,1,5,3,2,1,1,1,1,1,2,2,3,1,1,3,1,2,1,1,1,1,2,1,3,2,1,2,2,1,1,3,3,1,1,2,2,2,2,1,1,1,1,2,1,3,2,1,1,2,1,3,1,2,3,1,1,3,3,2,3,3,1,3,5,2,2,2,1,2,1,1,2,2,1,3,1,1,1,3,1,1,2,1,3,2,1,1,2,4,4,2,2,2,1,1,1,1,1,1,1,1,1,2,1,1,1,4,2,1,1,2,3,3,1,1,2,2,2,1,2,1,1,1,1,2,3,4,1,3,1,1,2,2,1,1,3,3,4,1,2,2,3,2,3,1,1,1,3,1,1,3,2,1,1,3,1,1,2,2,3,2,2,2,2,2,1,2,1,5,2,3,1,1,2,1,1,3,1,1,4,2,1,2,1,3,1,1,1,2,3,1,2,2,1,2,3,1,5,1,2,1,1,2,3,1,2,2,1,2,2,2,1,1,3,1,1,1,1,1,1,1,5,1,2,1,4,1,2,1,1,2,4,1,1,2,1,1,2,1,1,1,2,1,2,1,2,1,1,2,2,3,1,3,1,2,4,1,5,2,1,1,4,1,1,2,1,3,2,3,1,1,4,1,4,3,1,1,2,1,2,1,1,3,3,1,1,1,2,1,2,2,1,5,2,3,2,2,1,1,1,1,1,4,1,1,1,1,1,2,3,1,2,1,5,2,1,1,4,2,1,2,2,5,1,3,1,3,1,2,4,2,1,1,2,3,4,1,3,1,3,2,2,1,1,3,2,1,3,1,2,4,2,1,4,1,1,2,1,2,1,3,3,2,2,1,2,2,1,1,2,2,1,3,3,2,3,4,2,1,2,1,1,3,3,3,4,2,1,1,2,2,3,1,2,2,5,3,2,3,4,2,1,2,4,3,2,4,4,2,1,1,3,1,1,1,2,1,3,1,6,1,1,5,2,2,5,2,2,5,1,2,4,3,4,3,3,5,3,3,2,1,2,4,2,1,2,2,6,2,2,2,1,2,5,5,1,1,3,5,2,5,2,2,2,4,1,2,5,7,2,2,2,2,3,1,3,1,4,7,1,6,3,3,3,1,1,1,2,1,1,3,1,3,1,1,3,1,4,1,1,3,2,3,1,2,4,3,2,3,1,1,3,1,2,3,3,2,3,1,3,1,1,3,1,4,2,4,2,4,5,2,3,2,3,1,2,2,4,1,2,3,4,1,3,3,1,6,1,4,3,6,3,2,3,3,4,4,3,3,2,4,3,4,2,7,2,2,1,2,2,1,4,1,1,3,3,2,3,3,3,2,2,3,6,3,3,6,1,8,1,3,3,2,2,5,4,1,2,2,1,3,3,1,2,4,3,6,3,2,3,2,2,3,3,2,2,3,3,2,2,3,1,1,2,5,4,2,5,2,2,3,2,1,1,2,6,1,1,5,3,4,4,3,4,3,3,3,3,4,2,3,1,4,7,3,3,5,3,3,3,4,4,2,4,2,1,1,3,3,2,5,2,5,6,3,3,2,2,4,4,2,4,5,3,3,4,2,4,3,4,1,1,3,4,6,3,3,1,2,2,4,2,2,3,4,3,2,2,5,3,3,3,4,3,1,8,4,4,7,5,4,2,3,1,8,4,3,4,4,3,3,3,3,2,2,4,1,2,4,6,2,5,5,3,4,2,1,4,3,7,7,3,2,7,2,7,2,3,4,5,2,4,2,3,4,5,6,4,3,1,3,3,4,2,2,7,2,2,4,5,3,2,5,1,1,4,6,5,5,1,2,1,2,2,5,3,3,4,2,5,4,2,4,3,6,3,3,1,3,2,4,3,3,4,5,1,2,6,2,1,3,6,3,3,2,4,4,2,4,1,4,4,3,4,3,7,3,5,3,4,4,5,2,2,3,2,3,4,3,4,3,1,5,3,3,2,7,1,3,3,5,3,3,2,5,1,3,5,4,3,6,4,7,6,2,3,2,5,3,5,5,8,3,4,4,4,2,5,3,1,2,3,5,2,1,5,6,2,3,3,4,8,4,3,4,6,4,3,5,3,1,2,5,6,1,4,1,3,7,2,10,1,4,5,7,7,8,5,2,5,3,3,3,7,3,5,7,2,6,3,4,3,11,3,4,3,2,2,4,3,6,3,5,2,5,5,3,2,3,8,4,5,2,3,4,4,1,3,3,4,2,4,1,6,3,3,1,3,6,8,5,3,6,7,6,2,6,2,3,2,4,1,6,4,2,3,7,5,5,2,3,7,1,4,5,5,2,4,3,4,5,8,7,4,4,6,5,7,5,4,5,4,3,3,2,7,9,4,3,4,6,7,4,2,4,8,4,8,4,3,4,3,2,3,7,4,5,4,2,2,7,7,5,4,2,5,5,5,3,4,13,4,4,3,5,6,2,4,8,9,4,10,9,1,5,3,6,4,1,1,10,5,5,3,3,5,3,4,9,4,2,6,8,9,6,5,5,6,8,3,14,5,2,2,4,4,5,7,6,8,2,5,4,5,9,4,7,5,1,7,3,3,4,2,5,7,9,7,8,2,5,2,3,2,3,2,5,4,3,6,6,4,10,6,5,5,3,4,8,6,8,6,4,8,4,3,4,3,4,4,5,4,8,8,4,7,1,10,3,6,4,4,5,4,8,3,7,6,5,6,6,6,8,5,3,3,4,3,8,9,9,6,5,9,4,5,2,6,4,7,8,3,5,4,4,7,6,8,4,8,11,7,6,10,5,7,4,8,6,4,6,4,3,6,3,2,6,7,8,7,4,8,9,8,7,5,5,6,4,5,1,10,4,5,3,6,5,5,5,8,10,6,8,9,6,8,5,2,6,9,5,7,7,9,6,11,9,3,4,5,4,5,7,7,9,7,6,11,4,5,10,7,3,6,3,8,8,8,5,9,6,6,8,8,8,5,12,6,8,9,5,8,5,5,6,9,5,9,5,8,7,6,2,13,7,7,5,10,9,7,6,8,13,7,10,6,7,6,8,8,10,8,8,6,4,9,2,6,6,3,3,2,10,7,10,4,8,8,7,10,7,14,6,8,8,10,9,7,2,9,8,6,3,6,8,7,6,10,13,7,7,14,6,12,8,6,7,16,6,9,11,11,7,9,7,4,7,6,7,9,15,12,7,12,14,6,6,10,8,6,6,8,6,4,4,9,7,7,7,10,13,5,10,4,12,6,4,10,9,9,10,9,9,10,8,9,9,8,11,8,9,7,7,8,10,2,10,14,8,8,10,7,13,5,6,11,8,9,13,8,2,9,10,8,8,7,13,12,8,9,9,9,6,10,7,7,8,8,9,12,10,7,8,7,10,10,2,12,8,5,9,12,10,6,10,14,14,8,15,14,15,13,9,6,5,11,6,7,9,6,9,6,9,9,8,10,5,9,7,9,12,8,9,8,9,16,4,11,12,8,7,13,9,12,12,13,6,15,7,10,20,13,11,12,15,5,8,16,6,6,4,7,11,12,11,10,12,3,9,11,11,15,6,12,10,7,11,14,9,5,4,10,9,7,6,17,10,6,8,11,13,9,7,11,8,14,10,14,10,12,13,15,9,14,9,6,6,8,10,11,9,11,9,8,7,11,13,12,7,11,13,9,7,5,10,12,10,8,9,14,11,11,14,8,9,10,18,17,14,11,14,12,11,11,11,16,8,15,8,10,12,14,11,5,17,17,12,8,14,19,11,16,7,15,8,19,14,10,17,14,14,12,16,8,13,6,7,13,11,11,9,10,20,14,15,17,11,13,21,12,18,13,16,17,12,19,16,13,13,12,17,17,12,10,10,15,9,10,14,16,12,12,13,17,11,9,14,16,12,13,10,13,9,12,14,14,12,11,15,15,15,12,22,9,10,14,5,18,13,14,8,14,21,22,16,13,12,14,15,12,16,15,15,15,14,13,11,12,21,15,20,13,24,16,24,19,16,12,15,24,16,14,7,10,16,17,10,16,17,15,20,20,14,26,16,16,11,11,15,11,18,23,12,15,17,16,17,13,15,21,17,16,17,17,17,30,17,12,22,17,15,16,8,23,17,16,15,18,17,18,19,25,12,17,20,23,23,15,17,15,15,28,18,20,18,13,11,10,18,23,18,26,22,16,14,15,22,16,26,19,18,17,17,20,21,14,17,12,14,18,20,15,19,16,22,25,30,20,15,27,19,16,19,23,22,17,16,18,18,16,15,19,17,20,14,21,24,21,16,23,22,20,26,17,13,17,18,14,14,27,15,18,23,20,14,17,20,18,31,22,25,23,22,19,13,22,19,20,20,20,20,24,29,16,15,23,22,14,22,19,20,19,21,11,28,22,14,28,21,14,17,21,23,16,20,27,19,21,9,29,23,24,27,15,35,20,25,23,16,21,28,20,30,26,21,20,20,29,15,20,26,20,20,23,23,36,35,27,19,20,26,34,32,23,40,25,18,26,25,16,25,27,23,23,27,13,21,21,22,27,23,21,31,26,26,25,26,28,28,25,24,22,19,22,18,23,24,26,38,25,19,22,17,26,32,27,29,34,24,30,28,27,20,22,31,25,19,24,26,34,24,35,29,24,24,35,29,25,31,28,27,31,27,25,25,25,24,25,27,24,27,36,27,31,34,29,24,36,43,23,38,23,32,22,27,23,31,33,30,27,37,38,23,31,23,29,37,32,29,37,30,36,26,34,35,43,35,27,32,32,31,31,23,31,38,22,38,31,29,33,36,33,41,32,36,44,34,30,36,45,29,33,30,39,41,26,41,48,43,34,28,35,32,17,40,32,31,33,35,26,36,44,32,37,33,28,38,37,38,34,46,35,42,24,33,41,41,37,39,39,46,56,47,30,37,38,43,42,37,41,35,50,57,24,49,43,42,37,30,45,43,53,49,38,33,41,44,49,41,38,50,53,48,36,36,46,42,38,61,53,41,45,40,32,41,51,32,50,53,42,35,43,52,49,41,51,44,45,51,40,46,52,48,49,47,51,45,55,66,37,50,48,53,52,48,59,37,39,45,42,54,44,55,59,50,38,58,46,60,56,59,53,48,57,62,66,52,56,41,56,52,51,62,66,66,61,43,64,47,47,62,53,72,62,62,41,51,52,58,64,51,76,67,73,57,43,55,67,67,62,53,67,77,68,60,76,66,58,63,72,74,71,68,76,62,60,74,59,51,63,77,58,74,61,71,63,66,67,61,67,70,62,73,62,67,70,74,65,82,62,79,73,85,74,72,67,74,77,77,91,71,79,77,80,77,73,91,83,74,68,72,88,74,68,98,85,83,67,83,83,76,88,73,83,78,76,76,73,87,95,86,94,74,87,89,81,87,97,97,78,96,89,94,96,91,103,85,93,101,78,95,100,95,113,100,111,80,89,104,96,99,108,96,110,90,98,104,134,117,117,122,104,112,103,90,86,103,116,112,108,113,116,103,106,95,127,121,112,117,124,111,119,126,125,106,130,127,127,142,125,129,131,130,128,121,126,137,156,155,136,145,118,131,121,135,126,125,155,154,125,116,141,121,141,159,143,144,152,147,165,130,151,152,154,165,153,161,154,154,179,165,139,172,164,155,195,169,151,167,168,180,157,177,164,159,157,188,188,187,169,168,190,186,186,179,180,183,196,184,206,199,203,199,222,203,211,209,214,207,198,217,228,202,228,205,211,247,222,249,230,216,253,225,233,219,244,235,238,228,256,254,248,253,243,242,274,277,255,287,255,307,307,271,299,303,298,308,262,283,298,331,303,315,319,308,291,317,345,325,343,387,347,405,388,353,347,375,397,355,374,412,399,374,403,405,388,399,417,431,404,435,441,405,455,415,460,482,487,466,507,463,536,524,479,496,591,579,561,577,589,606,585,588,615,578,584,610,620,629,632,659,704,662,720,712,713,766,749,779,786,841,823,892,822,848,832,919,920,934,959,987,1015,1000,1065,1098,1082,1096,1179,1121,1178,1292,1290,1334,1356,1335,1365,1444,1521,1533,1592,1620,1662,1712,1811,1835,1917,2021,2132,2166,2257,2281,2376,2449,2693,2762,2879,3120,3340,3414,3782,3786,4225,4563,4940,5334,5846,6592,7693,8867,11192,14146,20437,33314,76962],\"yaxis\":\"y\",\"type\":\"bar\",\"texttemplate\":\"%{text}\"}],                        {\"template\":{\"data\":{\"histogram2dcontour\":[{\"type\":\"histogram2dcontour\",\"colorbar\":{\"outlinewidth\":0,\"ticks\":\"\"},\"colorscale\":[[0.0,\"#0d0887\"],[0.1111111111111111,\"#46039f\"],[0.2222222222222222,\"#7201a8\"],[0.3333333333333333,\"#9c179e\"],[0.4444444444444444,\"#bd3786\"],[0.5555555555555556,\"#d8576b\"],[0.6666666666666666,\"#ed7953\"],[0.7777777777777778,\"#fb9f3a\"],[0.8888888888888888,\"#fdca26\"],[1.0,\"#f0f921\"]]}],\"choropleth\":[{\"type\":\"choropleth\",\"colorbar\":{\"outlinewidth\":0,\"ticks\":\"\"}}],\"histogram2d\":[{\"type\":\"histogram2d\",\"colorbar\":{\"outlinewidth\":0,\"ticks\":\"\"},\"colorscale\":[[0.0,\"#0d0887\"],[0.1111111111111111,\"#46039f\"],[0.2222222222222222,\"#7201a8\"],[0.3333333333333333,\"#9c179e\"],[0.4444444444444444,\"#bd3786\"],[0.5555555555555556,\"#d8576b\"],[0.6666666666666666,\"#ed7953\"],[0.7777777777777778,\"#fb9f3a\"],[0.8888888888888888,\"#fdca26\"],[1.0,\"#f0f921\"]]}],\"heatmap\":[{\"type\":\"heatmap\",\"colorbar\":{\"outlinewidth\":0,\"ticks\":\"\"},\"colorscale\":[[0.0,\"#0d0887\"],[0.1111111111111111,\"#46039f\"],[0.2222222222222222,\"#7201a8\"],[0.3333333333333333,\"#9c179e\"],[0.4444444444444444,\"#bd3786\"],[0.5555555555555556,\"#d8576b\"],[0.6666666666666666,\"#ed7953\"],[0.7777777777777778,\"#fb9f3a\"],[0.8888888888888888,\"#fdca26\"],[1.0,\"#f0f921\"]]}],\"heatmapgl\":[{\"type\":\"heatmapgl\",\"colorbar\":{\"outlinewidth\":0,\"ticks\":\"\"},\"colorscale\":[[0.0,\"#0d0887\"],[0.1111111111111111,\"#46039f\"],[0.2222222222222222,\"#7201a8\"],[0.3333333333333333,\"#9c179e\"],[0.4444444444444444,\"#bd3786\"],[0.5555555555555556,\"#d8576b\"],[0.6666666666666666,\"#ed7953\"],[0.7777777777777778,\"#fb9f3a\"],[0.8888888888888888,\"#fdca26\"],[1.0,\"#f0f921\"]]}],\"contourcarpet\":[{\"type\":\"contourcarpet\",\"colorbar\":{\"outlinewidth\":0,\"ticks\":\"\"}}],\"contour\":[{\"type\":\"contour\",\"colorbar\":{\"outlinewidth\":0,\"ticks\":\"\"},\"colorscale\":[[0.0,\"#0d0887\"],[0.1111111111111111,\"#46039f\"],[0.2222222222222222,\"#7201a8\"],[0.3333333333333333,\"#9c179e\"],[0.4444444444444444,\"#bd3786\"],[0.5555555555555556,\"#d8576b\"],[0.6666666666666666,\"#ed7953\"],[0.7777777777777778,\"#fb9f3a\"],[0.8888888888888888,\"#fdca26\"],[1.0,\"#f0f921\"]]}],\"surface\":[{\"type\":\"surface\",\"colorbar\":{\"outlinewidth\":0,\"ticks\":\"\"},\"colorscale\":[[0.0,\"#0d0887\"],[0.1111111111111111,\"#46039f\"],[0.2222222222222222,\"#7201a8\"],[0.3333333333333333,\"#9c179e\"],[0.4444444444444444,\"#bd3786\"],[0.5555555555555556,\"#d8576b\"],[0.6666666666666666,\"#ed7953\"],[0.7777777777777778,\"#fb9f3a\"],[0.8888888888888888,\"#fdca26\"],[1.0,\"#f0f921\"]]}],\"mesh3d\":[{\"type\":\"mesh3d\",\"colorbar\":{\"outlinewidth\":0,\"ticks\":\"\"}}],\"scatter\":[{\"fillpattern\":{\"fillmode\":\"overlay\",\"size\":10,\"solidity\":0.2},\"type\":\"scatter\"}],\"parcoords\":[{\"type\":\"parcoords\",\"line\":{\"colorbar\":{\"outlinewidth\":0,\"ticks\":\"\"}}}],\"scatterpolargl\":[{\"type\":\"scatterpolargl\",\"marker\":{\"colorbar\":{\"outlinewidth\":0,\"ticks\":\"\"}}}],\"bar\":[{\"error_x\":{\"color\":\"#2a3f5f\"},\"error_y\":{\"color\":\"#2a3f5f\"},\"marker\":{\"line\":{\"color\":\"#E5ECF6\",\"width\":0.5},\"pattern\":{\"fillmode\":\"overlay\",\"size\":10,\"solidity\":0.2}},\"type\":\"bar\"}],\"scattergeo\":[{\"type\":\"scattergeo\",\"marker\":{\"colorbar\":{\"outlinewidth\":0,\"ticks\":\"\"}}}],\"scatterpolar\":[{\"type\":\"scatterpolar\",\"marker\":{\"colorbar\":{\"outlinewidth\":0,\"ticks\":\"\"}}}],\"histogram\":[{\"marker\":{\"pattern\":{\"fillmode\":\"overlay\",\"size\":10,\"solidity\":0.2}},\"type\":\"histogram\"}],\"scattergl\":[{\"type\":\"scattergl\",\"marker\":{\"colorbar\":{\"outlinewidth\":0,\"ticks\":\"\"}}}],\"scatter3d\":[{\"type\":\"scatter3d\",\"line\":{\"colorbar\":{\"outlinewidth\":0,\"ticks\":\"\"}},\"marker\":{\"colorbar\":{\"outlinewidth\":0,\"ticks\":\"\"}}}],\"scattermapbox\":[{\"type\":\"scattermapbox\",\"marker\":{\"colorbar\":{\"outlinewidth\":0,\"ticks\":\"\"}}}],\"scatterternary\":[{\"type\":\"scatterternary\",\"marker\":{\"colorbar\":{\"outlinewidth\":0,\"ticks\":\"\"}}}],\"scattercarpet\":[{\"type\":\"scattercarpet\",\"marker\":{\"colorbar\":{\"outlinewidth\":0,\"ticks\":\"\"}}}],\"carpet\":[{\"aaxis\":{\"endlinecolor\":\"#2a3f5f\",\"gridcolor\":\"white\",\"linecolor\":\"white\",\"minorgridcolor\":\"white\",\"startlinecolor\":\"#2a3f5f\"},\"baxis\":{\"endlinecolor\":\"#2a3f5f\",\"gridcolor\":\"white\",\"linecolor\":\"white\",\"minorgridcolor\":\"white\",\"startlinecolor\":\"#2a3f5f\"},\"type\":\"carpet\"}],\"table\":[{\"cells\":{\"fill\":{\"color\":\"#EBF0F8\"},\"line\":{\"color\":\"white\"}},\"header\":{\"fill\":{\"color\":\"#C8D4E3\"},\"line\":{\"color\":\"white\"}},\"type\":\"table\"}],\"barpolar\":[{\"marker\":{\"line\":{\"color\":\"#E5ECF6\",\"width\":0.5},\"pattern\":{\"fillmode\":\"overlay\",\"size\":10,\"solidity\":0.2}},\"type\":\"barpolar\"}],\"pie\":[{\"automargin\":true,\"type\":\"pie\"}]},\"layout\":{\"autotypenumbers\":\"strict\",\"colorway\":[\"#636efa\",\"#EF553B\",\"#00cc96\",\"#ab63fa\",\"#FFA15A\",\"#19d3f3\",\"#FF6692\",\"#B6E880\",\"#FF97FF\",\"#FECB52\"],\"font\":{\"color\":\"#2a3f5f\"},\"hovermode\":\"closest\",\"hoverlabel\":{\"align\":\"left\"},\"paper_bgcolor\":\"white\",\"plot_bgcolor\":\"#E5ECF6\",\"polar\":{\"bgcolor\":\"#E5ECF6\",\"angularaxis\":{\"gridcolor\":\"white\",\"linecolor\":\"white\",\"ticks\":\"\"},\"radialaxis\":{\"gridcolor\":\"white\",\"linecolor\":\"white\",\"ticks\":\"\"}},\"ternary\":{\"bgcolor\":\"#E5ECF6\",\"aaxis\":{\"gridcolor\":\"white\",\"linecolor\":\"white\",\"ticks\":\"\"},\"baxis\":{\"gridcolor\":\"white\",\"linecolor\":\"white\",\"ticks\":\"\"},\"caxis\":{\"gridcolor\":\"white\",\"linecolor\":\"white\",\"ticks\":\"\"}},\"coloraxis\":{\"colorbar\":{\"outlinewidth\":0,\"ticks\":\"\"}},\"colorscale\":{\"sequential\":[[0.0,\"#0d0887\"],[0.1111111111111111,\"#46039f\"],[0.2222222222222222,\"#7201a8\"],[0.3333333333333333,\"#9c179e\"],[0.4444444444444444,\"#bd3786\"],[0.5555555555555556,\"#d8576b\"],[0.6666666666666666,\"#ed7953\"],[0.7777777777777778,\"#fb9f3a\"],[0.8888888888888888,\"#fdca26\"],[1.0,\"#f0f921\"]],\"sequentialminus\":[[0.0,\"#0d0887\"],[0.1111111111111111,\"#46039f\"],[0.2222222222222222,\"#7201a8\"],[0.3333333333333333,\"#9c179e\"],[0.4444444444444444,\"#bd3786\"],[0.5555555555555556,\"#d8576b\"],[0.6666666666666666,\"#ed7953\"],[0.7777777777777778,\"#fb9f3a\"],[0.8888888888888888,\"#fdca26\"],[1.0,\"#f0f921\"]],\"diverging\":[[0,\"#8e0152\"],[0.1,\"#c51b7d\"],[0.2,\"#de77ae\"],[0.3,\"#f1b6da\"],[0.4,\"#fde0ef\"],[0.5,\"#f7f7f7\"],[0.6,\"#e6f5d0\"],[0.7,\"#b8e186\"],[0.8,\"#7fbc41\"],[0.9,\"#4d9221\"],[1,\"#276419\"]]},\"xaxis\":{\"gridcolor\":\"white\",\"linecolor\":\"white\",\"ticks\":\"\",\"title\":{\"standoff\":15},\"zerolinecolor\":\"white\",\"automargin\":true,\"zerolinewidth\":2},\"yaxis\":{\"gridcolor\":\"white\",\"linecolor\":\"white\",\"ticks\":\"\",\"title\":{\"standoff\":15},\"zerolinecolor\":\"white\",\"automargin\":true,\"zerolinewidth\":2},\"scene\":{\"xaxis\":{\"backgroundcolor\":\"#E5ECF6\",\"gridcolor\":\"white\",\"linecolor\":\"white\",\"showbackground\":true,\"ticks\":\"\",\"zerolinecolor\":\"white\",\"gridwidth\":2},\"yaxis\":{\"backgroundcolor\":\"#E5ECF6\",\"gridcolor\":\"white\",\"linecolor\":\"white\",\"showbackground\":true,\"ticks\":\"\",\"zerolinecolor\":\"white\",\"gridwidth\":2},\"zaxis\":{\"backgroundcolor\":\"#E5ECF6\",\"gridcolor\":\"white\",\"linecolor\":\"white\",\"showbackground\":true,\"ticks\":\"\",\"zerolinecolor\":\"white\",\"gridwidth\":2}},\"shapedefaults\":{\"line\":{\"color\":\"#2a3f5f\"}},\"annotationdefaults\":{\"arrowcolor\":\"#2a3f5f\",\"arrowhead\":0,\"arrowwidth\":1},\"geo\":{\"bgcolor\":\"white\",\"landcolor\":\"#E5ECF6\",\"subunitcolor\":\"white\",\"showland\":true,\"showlakes\":true,\"lakecolor\":\"white\"},\"title\":{\"x\":0.05},\"mapbox\":{\"style\":\"light\"}}},\"xaxis\":{\"anchor\":\"y\",\"domain\":[0.0,1.0],\"title\":{\"text\":\"Уникальные клики\"},\"type\":\"log\"},\"yaxis\":{\"anchor\":\"x\",\"domain\":[0.0,1.0],\"title\":{\"text\":\"Количество товаров\"},\"type\":\"log\"},\"legend\":{\"tracegroupgap\":0},\"title\":{\"text\":\"Распределение товаров по количеству уникальных кликов\",\"font\":{\"size\":20}},\"barmode\":\"relative\"},                        {\"responsive\": true}                    ).then(function(){\n",
              "                            \n",
              "var gd = document.getElementById('ff291557-0e79-461a-a787-44e8323fb72c');\n",
              "var x = new MutationObserver(function (mutations, observer) {{\n",
              "        var display = window.getComputedStyle(gd).display;\n",
              "        if (!display || display === 'none') {{\n",
              "            console.log([gd, 'removed!']);\n",
              "            Plotly.purge(gd);\n",
              "            observer.disconnect();\n",
              "        }}\n",
              "}});\n",
              "\n",
              "// Listen for the removal of the full notebook cells\n",
              "var notebookContainer = gd.closest('#notebook-container');\n",
              "if (notebookContainer) {{\n",
              "    x.observe(notebookContainer, {childList: true});\n",
              "}}\n",
              "\n",
              "// Listen for the clearing of the current output cell\n",
              "var outputEl = gd.closest('.output');\n",
              "if (outputEl) {{\n",
              "    x.observe(outputEl, {childList: true});\n",
              "}}\n",
              "\n",
              "                        })                };                            </script>        </div>\n",
              "</body>\n",
              "</html>"
            ]
          },
          "metadata": {}
        }
      ]
    },
    {
      "cell_type": "code",
      "source": [
        "\n",
        "clicks_per_user_item = train_data_10_10_24_10_11_24_final.groupby([\"wbuser_id\", \"nm_id\"]).size().reset_index(name=\"click_count\")\n",
        "\n",
        "# Фильтруем пользователей, которые кликнули более 30 раз на один товар\n",
        "clicks_over_30 = clicks_per_user_item[clicks_per_user_item[\"click_count\"] > 30]\n",
        "\n",
        "users_with_high_clicks = clicks_over_30[\"wbuser_id\"].unique()\n",
        "\n",
        "print(users_with_high_clicks)"
      ],
      "metadata": {
        "colab": {
          "base_uri": "https://localhost:8080/"
        },
        "id": "znpyHzBlgeHX",
        "outputId": "b5464d21-c762-4f5e-f983-a6e2693c8415"
      },
      "execution_count": null,
      "outputs": [
        {
          "output_type": "stream",
          "name": "stdout",
          "text": [
            "[    315     675     763    1266    1854    2937    4307    9219   10782\n",
            "   11218   11232   11348   11740   14478   15788   20377   20394   20871\n",
            "   23110   23327   24055   31859   33403   36875   37153   37545   48457\n",
            "   49044   51451   51960   52417   53473   54972   57101   57572   58759\n",
            "   58871   62143   62545   63080   63369   63905   64445   72442   74013\n",
            "   78149   80066   84914   86174   89943   91254   91924   93146   96194\n",
            "   98492  106299  108510  108981  109785  109801  114903  114940  115838\n",
            "  116207  116350  120685  120799  123671  128584  135178  144067  144286\n",
            "  144550  147852  149021  150365  153171  155248  155734  155777  156939\n",
            "  158263  161252  163902  164122  164390  168549  170972  171772  172510\n",
            "  177847  179260  179277  180079  182295  184031  184182  184527  185367\n",
            "  186235  186339  188449  189081  189998  190693  192374  192654  194715\n",
            "  195974  198995  203220  207975  218722  219190  219848  224701  227344\n",
            "  233623  236831  237555  240474  242116  243723  244935  250872  251971\n",
            "  252433  256450  260968  261199  261542  265250  266708  270373  270830\n",
            "  281355  281607  287455  288742  290989  292967  297592  298156  304440\n",
            "  309885  313045  320542  322253  323464  325425  327736  328829  331040\n",
            "  332355  334095  334286  334877  336172  354334  360001  363593  363885\n",
            "  369337  370191  379329  381272  387228  391910  392425  394377  407164\n",
            "  411579  416725  417908  428129  429761  441358  442943  444400  445030\n",
            "  455601  456602  462457  464069  465770  468418  474622  476830  477496\n",
            "  484917  485761  488936  494099  503730  505774  506924  507137  508394\n",
            "  508680  510734  511076  514769  515242  515685  517690  517952  518719\n",
            "  520222  523117  525014  528289  529578  530585  539518  546613  555698\n",
            "  563297  564930  567426  570414  571301  574230  574419  574722  579062\n",
            "  580075  582797  585026  587056  598237  598479  608938  611548  612987\n",
            "  613967  614255  615225  620827  621306  625584  628387  628925  631536\n",
            "  654707  663586  674472  680826  683694  685201  685614  687669  687837\n",
            "  691857  698616  699363  701701  708910  712052  714900  719708  721214\n",
            "  729583  732407  732792  740946  750798  753794  759890  760978  762430\n",
            "  763566  764279  768874  770775  772150  774423  774857  778607  783050\n",
            "  785294  786254  788211  794663  798289  798678  798941  801401  805755\n",
            "  810822  812996  813169  814723  816278  816682  816736  817049  819298\n",
            "  822300  828240  834541  835454  857115  860826  871117  871170  871264\n",
            "  872848  877127  881428  887741  891854  892617  893412  900901  908295\n",
            "  914521  917108  918708  924215  935036  935225  941194  945943  946873\n",
            "  947849  951521  953526  957924  958566  958669  959313  963865  965171\n",
            "  976917  984029  986517 1001261 1002504 1005013 1006601 1012193 1014316\n",
            " 1031612 1037667 1040584 1043373 1043591 1044442 1048183 1048582 1051413\n",
            " 1054144 1054968 1059737 1065064 1070180 1072936 1077935 1092774 1097681\n",
            " 1102828 1106909 1108883 1110785 1111765 1111934 1116292 1117378 1121020\n",
            " 1123258 1123729 1129726 1130352 1133016 1134757 1137617 1138473 1140865\n",
            " 1150856 1151822 1177437 1198536 1198810 1202111 1202641 1203852 1208335\n",
            " 1211505 1211668 1212912 1213635 1215837 1220565 1230589 1236785 1236965\n",
            " 1253507 1259398 1261349 1264207 1265486 1274780 1274976 1278274 1293535\n",
            " 1296679 1303857 1304505 1311375 1314980 1324708 1328869 1336354 1338663\n",
            " 1338666 1344192 1344362 1344889 1345249 1345815 1347717 1348664 1349959\n",
            " 1351016 1370581 1372638 1375191 1377803 1391162 1394192 1400678 1403142\n",
            " 1405885 1406086 1406116 1412401 1420033 1425788 1428138 1428971 1431037\n",
            " 1450681 1471991 1483129 1486083 1486278 1487355 1488283 1488545 1497532\n",
            " 1506106 1511838 1525109 1531673 1533156 1559713 1569932 1570293 1601763\n",
            " 1605835 1606824 1607614 1609001 1625823 1637378 1651520 1660720 1675914\n",
            " 1688992 1692513 1696444 1703990 1718295 1734947 1735499 1758112 1764746\n",
            " 1766786 1772965 1776343 1776950 1784773 1789471 1797457 1799299 1852454\n",
            " 1861843 1897157 1897258 1897833 1919153 1925681 1927650 1939970 1953572\n",
            " 1957378 1958552 1965227 1967783 1981127 1992065 1998366 2002457 2021063\n",
            " 2037669 2045613 2054130 2066246 2072990 2094945 2095320 2101433 2106314\n",
            " 2109098 2111439 2115966 2121509 2134475 2137121 2138178 2151449 2190243\n",
            " 2191566 2191630 2223299 2228429 2241470 2248697 2282283 2285476 2303067\n",
            " 2305742 2311651 2327642 2336557 2338153 2369253 2378350 2379286 2393980\n",
            " 2404208 2405987 2424403 2428663 2429770 2432676 2447888 2450767 2460493\n",
            " 2470287 2485363 2494631 2497186 2546589 2556048 2590459 2592175 2600350\n",
            " 2617123 2637163 2641384 2661623 2666210 2680958 2686776 2732368 2743461\n",
            " 2749377 2774596 2809019 2814314 2846601 2868144 2891599 2945605 3071373\n",
            " 3094889 3211097 3213036 3279226 3644037 3656359 3958018 4126108 4661095\n",
            " 4670687 4745986 4875114]\n"
          ]
        }
      ]
    },
    {
      "cell_type": "code",
      "source": [
        "len(users_with_high_clicks)"
      ],
      "metadata": {
        "colab": {
          "base_uri": "https://localhost:8080/"
        },
        "id": "vNPPo3Vfg0gX",
        "outputId": "9fa313a6-7959-4d2b-dfc8-41795dc4cfff"
      },
      "execution_count": null,
      "outputs": [
        {
          "output_type": "execute_result",
          "data": {
            "text/plain": [
              "588"
            ]
          },
          "metadata": {},
          "execution_count": 11
        }
      ]
    },
    {
      "cell_type": "code",
      "execution_count": null,
      "metadata": {
        "id": "qXesz4XS3f94"
      },
      "outputs": [],
      "source": [
        "import plotly.express as px"
      ]
    },
    {
      "cell_type": "code",
      "execution_count": null,
      "metadata": {
        "id": "NutGlerOSA_9",
        "colab": {
          "base_uri": "https://localhost:8080/"
        },
        "outputId": "87d0637c-7162-41dc-e36c-ec2b2fd04e52"
      },
      "outputs": [
        {
          "output_type": "execute_result",
          "data": {
            "text/plain": [
              "(58872076, 5)"
            ]
          },
          "metadata": {},
          "execution_count": 8
        }
      ],
      "source": [
        "train_data_10_10_24_10_11_24_final = pd.read_parquet('/content/drive/MyDrive/wb_data/train_data_10_10_24_10_11_24_final.parquet', engine='pyarrow')\n",
        "train_data_10_10_24_10_11_24_final.shape"
      ]
    },
    {
      "cell_type": "code",
      "execution_count": null,
      "metadata": {
        "id": "3bs2Y6dKSA_9"
      },
      "outputs": [],
      "source": [
        "max_nm_id = text_data_69020_final['nm_id'].max()\n",
        "min_nm_id = text_data_69020_final['nm_id'].min()\n",
        "\n",
        "print(f\"Максимальное значение nm_id: {max_nm_id}\")\n",
        "print(f\"Минимальное значение nm_id: {min_nm_id}\")"
      ]
    },
    {
      "cell_type": "code",
      "execution_count": null,
      "metadata": {
        "id": "tJo5UZEoSA_9"
      },
      "outputs": [],
      "source": [
        "train_data_10_10_24_10_11_24_final"
      ]
    },
    {
      "cell_type": "code",
      "execution_count": null,
      "metadata": {
        "id": "7rOQXOedSA_9"
      },
      "outputs": [],
      "source": [
        "!pip install pyarrow"
      ]
    },
    {
      "cell_type": "code",
      "source": [
        "import pandas as pd"
      ],
      "metadata": {
        "id": "Rb736-EwpXH1"
      },
      "execution_count": null,
      "outputs": []
    },
    {
      "cell_type": "code",
      "execution_count": null,
      "metadata": {
        "id": "lvPKsFRoSA_-",
        "colab": {
          "base_uri": "https://localhost:8080/",
          "height": 156
        },
        "outputId": "e392f5cd-1fa0-46ba-ba88-79953b8532af"
      },
      "outputs": [
        {
          "output_type": "error",
          "ename": "NameError",
          "evalue": "name 'pd' is not defined",
          "traceback": [
            "\u001b[0;31m---------------------------------------------------------------------------\u001b[0m",
            "\u001b[0;31mNameError\u001b[0m                                 Traceback (most recent call last)",
            "\u001b[0;32m<ipython-input-6-edb26f5faf41>\u001b[0m in \u001b[0;36m<cell line: 1>\u001b[0;34m()\u001b[0m\n\u001b[0;32m----> 1\u001b[0;31m \u001b[0mtext_data_69020_final\u001b[0m \u001b[0;34m=\u001b[0m \u001b[0mpd\u001b[0m\u001b[0;34m.\u001b[0m\u001b[0mread_parquet\u001b[0m\u001b[0;34m(\u001b[0m\u001b[0;34m'/content/drive/MyDrive/wb_data/text_data_69020_final.parquet'\u001b[0m\u001b[0;34m,\u001b[0m \u001b[0mengine\u001b[0m\u001b[0;34m=\u001b[0m\u001b[0;34m'pyarrow'\u001b[0m\u001b[0;34m)\u001b[0m\u001b[0;34m\u001b[0m\u001b[0;34m\u001b[0m\u001b[0m\n\u001b[0m\u001b[1;32m      2\u001b[0m \u001b[0mtext_data_69020_final\u001b[0m\u001b[0;34m.\u001b[0m\u001b[0mshape\u001b[0m\u001b[0;34m\u001b[0m\u001b[0;34m\u001b[0m\u001b[0m\n",
            "\u001b[0;31mNameError\u001b[0m: name 'pd' is not defined"
          ]
        }
      ],
      "source": [
        "text_data_69020_final = pd.read_parquet('/content/drive/MyDrive/wb_data/text_data_69020_final.parquet', engine='pyarrow')\n",
        "text_data_69020_final.shape"
      ]
    },
    {
      "cell_type": "code",
      "execution_count": null,
      "metadata": {
        "id": "3tDKsHokSA_-"
      },
      "outputs": [],
      "source": [
        "text_data_69020_final.head()"
      ]
    },
    {
      "cell_type": "code",
      "execution_count": null,
      "metadata": {
        "id": "ZBY_kISBSA_-"
      },
      "outputs": [],
      "source": [
        "text_data_69020_final.loc[text_data_69020_final['nm_id'] == 33500, 'characteristics'].values[0]"
      ]
    },
    {
      "cell_type": "code",
      "execution_count": null,
      "metadata": {
        "id": "X3pT8sG9SA_-"
      },
      "outputs": [],
      "source": [
        "import subprocess\n",
        "\n",
        "directory_path = 'clip_rerank/images-2'\n",
        "\n",
        "command = f\"ls -1 {directory_path} | wc -l\"\n",
        "result = subprocess.run(command, shell=True, check=True, stdout=subprocess.PIPE, stderr=subprocess.PIPE)\n",
        "count = result.stdout.decode().strip()\n",
        "\n",
        "print(f\"{count}\")"
      ]
    },
    {
      "cell_type": "markdown",
      "metadata": {
        "id": "1OvwfJ1oSA_-"
      },
      "source": [
        "<div class=\"alert alert-info\">\n",
        "По количеству данных можно судить о возможности применеия моделей использующих нейросети. Особенно учитывая количество изображений 419499\n",
        "</div>"
      ]
    },
    {
      "cell_type": "code",
      "execution_count": null,
      "metadata": {
        "id": "5DU9v7OUSA_-"
      },
      "outputs": [],
      "source": [
        "text_data_69020_final.head()"
      ]
    },
    {
      "cell_type": "code",
      "execution_count": null,
      "metadata": {
        "id": "k_LboHG5SA_-"
      },
      "outputs": [],
      "source": [
        "text_data_69020_final[text_data_69020_final['characteristics'].notna()]"
      ]
    },
    {
      "cell_type": "code",
      "execution_count": null,
      "metadata": {
        "id": "cCGYXsq_SA_-"
      },
      "outputs": [],
      "source": [
        "text_data_69020_final = text_data_69020_final.drop(['characteristics'], axis=1)"
      ]
    },
    {
      "cell_type": "markdown",
      "metadata": {
        "id": "k6rBxnVASA_-"
      },
      "source": [
        "<div class=\"alert alert-info\">\n",
        "Столбец characteristics не содержит данных.\n",
        "</div>"
      ]
    },
    {
      "cell_type": "markdown",
      "metadata": {
        "id": "XHpNN5gOSA__"
      },
      "source": [
        "# <a id=\"eda\"> </a>$\\text{Первичные разведочный анализ данных (EDA)}$"
      ]
    },
    {
      "cell_type": "code",
      "execution_count": null,
      "metadata": {
        "id": "cJqV75v3SA__"
      },
      "outputs": [],
      "source": [
        "text_data_69020_final['description'].str.len().max()"
      ]
    },
    {
      "cell_type": "markdown",
      "metadata": {
        "id": "X0EoSZ2mSA__"
      },
      "source": [
        "Максимальная длинна строки описания 5000 символов"
      ]
    },
    {
      "cell_type": "markdown",
      "metadata": {
        "id": "CC-alZRESA__"
      },
      "source": [
        "<div class=\"alert alert-info\">\n",
        "В поляз title, brandname, description  присутствует не только русский текст. Для построения эмбедингов целесообразно использование моделей использующих несколько языков.\n",
        "</div>"
      ]
    },
    {
      "cell_type": "code",
      "execution_count": null,
      "metadata": {
        "id": "NYYWxuU6SA__"
      },
      "outputs": [],
      "source": [
        "import plotly.express as px"
      ]
    },
    {
      "cell_type": "markdown",
      "metadata": {
        "id": "5HmcwZ7QSA__"
      },
      "source": [
        "<div class=\"alert alert-info\">\n",
        "По графику видно, что очень мало пользователей покупают много раличных товаров. И большинство пользователей покупают лишь ограниченное количество товаров, чему соответствует длинный хвост.\n",
        "</div>"
      ]
    },
    {
      "cell_type": "markdown",
      "metadata": {
        "id": "8Ua2qTgHSA__"
      },
      "source": [
        "<div class=\"alert alert-info\">\n",
        "Почти все пользователи купили только лишь товар.\n",
        "</div>"
      ]
    },
    {
      "cell_type": "markdown",
      "metadata": {
        "id": "Ruw63EjtSA__"
      },
      "source": [
        "В последний момент произошла проблема с версиями модулей."
      ]
    },
    {
      "cell_type": "code",
      "execution_count": null,
      "metadata": {
        "id": "g8YHYLQaSBAA"
      },
      "outputs": [],
      "source": [
        "unique_brandname = text_data_69020_final['brandname'].nunique()\n",
        "unique_mn = text_data_69020_final['nm_id'].nunique()\n",
        "unique_order_ts = text_data_69020_final[\"title\"].nunique()\n",
        "print(f\"Количество брендов: {unique_brandname}\")\n",
        "print(f\"Количество товаров: {unique_mn}\")\n",
        "print(f\"Уникальные заголовки: {unique_order_ts}\")"
      ]
    },
    {
      "cell_type": "code",
      "execution_count": null,
      "metadata": {
        "id": "yhGNR4NuSBAA"
      },
      "outputs": [],
      "source": [
        "text_data_69020_final['colornames'].explode().nunique()"
      ]
    },
    {
      "cell_type": "markdown",
      "metadata": {
        "id": "D_rPpKKCSBAA"
      },
      "source": [
        "<div class=\"alert alert-info\">\n",
        "Отностельно количества товаров количество различных цветов невелико, однако в описаниях на одну картинку иногда приходится больше одного цвета\n",
        "</div>"
      ]
    },
    {
      "cell_type": "code",
      "execution_count": null,
      "metadata": {
        "id": "H1JAFXT7SBAA"
      },
      "outputs": [],
      "source": [
        "train_data_10_10_24_10_11_24_final[\"dt\"].min(), train_data_10_10_24_10_11_24_final[\"dt\"].max()"
      ]
    },
    {
      "cell_type": "markdown",
      "metadata": {
        "id": "fnSHXdxsSBAA"
      },
      "source": [
        "<div class=\"alert alert-info\">\n",
        "Расматриваемый промежуток времени весьма невелик.\n",
        "</div>"
      ]
    },
    {
      "cell_type": "code",
      "execution_count": null,
      "metadata": {
        "id": "oRQK9SsgSBAA"
      },
      "outputs": [],
      "source": [
        "unique_user = train_data_10_10_24_10_11_24_final['wbuser_id'].nunique()\n",
        "unique_item = train_data_10_10_24_10_11_24_final['nm_id'].nunique()\n",
        "print(f\"Количество клиентов: {unique_user}\")\n",
        "print(f\"Количество товаров: {unique_item}\")"
      ]
    },
    {
      "cell_type": "markdown",
      "source": [
        "<div class=\"alert alert-danger\" role=\"alert\">\n",
        " Исправлена формулировака.\n",
        " </div>"
      ],
      "metadata": {
        "id": "XIHOAJbjmAt2"
      }
    },
    {
      "cell_type": "markdown",
      "metadata": {
        "id": "Lst9ohI9SBAA"
      },
      "source": [
        "<div class=\"alert alert-info\">\n",
        "Количество клиентов привышает количество товаров почти в 10 раз. Найти похожего пользователя из большого их каличество легче, если рассмативать случайную выборку. Однако в предоствленных для анализа данных пользователи схожи по факту покупки платьев, а соотвецтвенно все товары принадлежат одной категории.\n",
        "</div>"
      ]
    },
    {
      "cell_type": "code",
      "execution_count": null,
      "metadata": {
        "id": "hV-DdDAvSBAA"
      },
      "outputs": [],
      "source": [
        "nm_id_text_data = set(text_data_69020_final['nm_id'].unique())\n",
        "nm_id_train_data = set(train_data_10_10_24_10_11_24_final['nm_id'].unique())\n",
        "\n",
        "intersection = nm_id_train_data.intersection(nm_id_text_data)\n",
        "\n",
        "count_intersection = len(intersection)\n",
        "\n",
        "print(\"Количество элементов в пересечении значений nm_id:\", count_intersection)"
      ]
    },
    {
      "cell_type": "code",
      "execution_count": null,
      "metadata": {
        "id": "uTA6d6QWSBAA"
      },
      "outputs": [],
      "source": [
        "only_in_text_data = nm_id_text_data - intersection\n",
        "\n",
        "only_in_train_data = nm_id_train_data - intersection\n",
        "\n",
        "print(\"количество товаров, которые есть только в text_data_69020_final:\", len(only_in_text_data))\n",
        "print(\"ID товаров, которые есть только в train_data_10_10_24_10ы_11_24_final:\", only_in_train_data)"
      ]
    },
    {
      "cell_type": "markdown",
      "metadata": {
        "id": "DsetUq71SBAA"
      },
      "source": [
        "При построении рекомндательной системы, которая будет учитывать и схожесть товаров, и схожесть покупок пользователей можно использовать все товары которые есть в датафрейме `text_data_69020_final`.   \n",
        "Товары описания которых нет, но их покупка осуществленна рассматриваются исключительно как колизия."
      ]
    },
    {
      "cell_type": "markdown",
      "metadata": {
        "id": "xNErZvkRSBAA"
      },
      "source": [
        "Найдем сами изображения описания которых нет."
      ]
    },
    {
      "cell_type": "code",
      "execution_count": null,
      "metadata": {
        "id": "Uy9uMldzSBAA"
      },
      "outputs": [],
      "source": [
        "import os\n",
        "from PIL import Image\n",
        "\n",
        "image_dir = \"clip_rerank/images-2\"\n",
        "\n",
        "def load_image_by_id(nm_id, display=False):\n",
        "    '''\n",
        "    Функция для получения изображнеия по его nm_id;\n",
        "    '''\n",
        "    filename = f\"{nm_id}.jpg\"\n",
        "    image_path = os.path.join(image_dir, filename)\n",
        "\n",
        "\n",
        "    if os.path.exists(image_path):\n",
        "        image = Image.open(image_path)\n",
        "        return image\n",
        "    else:\n",
        "        print(f\"Изображение с nm_id={nm_id} не найдено.\")\n",
        "        return None\n",
        "\n",
        "    image = load_image_by_id(nm_id)\n",
        "    if image:\n",
        "        image.show()\n"
      ]
    },
    {
      "cell_type": "code",
      "execution_count": null,
      "metadata": {
        "id": "Vc6NIC3gSBAA"
      },
      "outputs": [],
      "source": [
        "load_image_by_id(210699, True)"
      ]
    },
    {
      "cell_type": "code",
      "execution_count": null,
      "metadata": {
        "id": "H2Bfj0tbSBAA"
      },
      "outputs": [],
      "source": [
        "load_image_by_id(290074, True)"
      ]
    },
    {
      "cell_type": "markdown",
      "metadata": {
        "id": "IZMw-nzzSBAA"
      },
      "source": [
        "### Анализ изображений"
      ]
    },
    {
      "cell_type": "markdown",
      "metadata": {
        "id": "2V5DWnw3SBAA"
      },
      "source": [
        "Изображния можно разделить на несколько категорий:\n",
        "- изображение с задним фоном\n",
        "- изображения без фона\n",
        "- на изображении только товар\n",
        "- на изображении присутствует текст"
      ]
    },
    {
      "cell_type": "markdown",
      "metadata": {
        "id": "vjiJI3fGSBAA"
      },
      "source": [
        "<div class=\"alert alert-info\">\n",
        "Чтобы проанализировать стратификацию изображений по их различному типу можно было бы использовать предобученную модель. Но в контексте постороений рекомндательной системы используюшей encoder для изображений стратификация не сильно важна, поскольку модель будет запоминать осбенности карточек товарах для каждого пользователя.\n",
        "</div>"
      ]
    },
    {
      "cell_type": "code",
      "execution_count": null,
      "metadata": {
        "id": "RHZQcJN4SBAA"
      },
      "outputs": [],
      "source": [
        "load_image_by_id(7).size"
      ]
    },
    {
      "cell_type": "markdown",
      "metadata": {
        "id": "Cga7xVGKSBAB"
      },
      "source": [
        "Случайно найденный товар. Платье для ростовой куклы невполне относится к платьям."
      ]
    },
    {
      "cell_type": "code",
      "execution_count": null,
      "metadata": {
        "id": "IM_6dtBASBAB"
      },
      "outputs": [],
      "source": [
        "load_image_by_id(108, True)"
      ]
    },
    {
      "cell_type": "markdown",
      "metadata": {
        "id": "lxsCUy3aSBAB"
      },
      "source": [
        "<div class=\"alert alert-info\">\n",
        "Все изображения имеют одинаковый формат\n",
        "</div>"
      ]
    },
    {
      "cell_type": "markdown",
      "metadata": {
        "id": "pD0lHl6qSBAB"
      },
      "source": [
        "Изученные испочники:\n",
        "\n",
        "- [поиск по изображению и тексту](https://arxiv.org/pdf/2305.16566)\n",
        "- [leaPRR model](https://arxiv.org/pdf/2304.12570)\n",
        "- [семантические ембеденнги](https://arxiv.org/pdf/1707.05612)\n",
        "- [bottom-up-attention](https://arxiv.org/pdf/1707.07998)\n",
        "- [Двух-этапная рекомендательная система Статья](https://arxiv.org/pdf/1908.08284)\n",
        "- [Двух-этапная рекомендательная система Презентация](https://research.zalando.com/fashionxrecsys/workshop-files/presentations/session2-paper4.pdf)\n"
      ]
    }
  ],
  "metadata": {
    "colab": {
      "provenance": [],
      "toc_visible": true,
      "include_colab_link": true
    },
    "kernelspec": {
      "display_name": "Python 3",
      "name": "python3"
    },
    "language_info": {
      "codemirror_mode": {
        "name": "ipython",
        "version": 3
      },
      "file_extension": ".py",
      "mimetype": "text/x-python",
      "name": "python",
      "nbconvert_exporter": "python",
      "pygments_lexer": "ipython3",
      "version": "3.12.2"
    }
  },
  "nbformat": 4,
  "nbformat_minor": 0
}